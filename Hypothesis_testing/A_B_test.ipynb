{
 "cells": [
  {
   "cell_type": "markdown",
   "id": "3540ce19",
   "metadata": {},
   "source": [
    "<h1 align=\"center\" style=\"color:#8B4513\">\n",
    "Приоретизация и анализ гипотез\n",
    "    </h1>"
   ]
  },
  {
   "cell_type": "markdown",
   "id": "22e57811",
   "metadata": {},
   "source": [
    "Отдел маркетинга подготовил список гипотез, для увеличения выручки интернет-магазина необходимо приоритизировать эти гипотезы, провести А/В тест и проанализировать результаты.  \n",
    "\n",
    "Для работы представлены 3 файла - с информацией о гипотезах и результатах А/В теста. В первую очередь надо приоритизировать одну из девяти гипотез, затем провести анализ теста по кумулятивным выручке, среднему чеку и конверсии покупателей, определить и избавится от аномалиьных пользователей и заказов, оценить статистическую значимость в конверсии и середнем чеке, по результатам анализа принять решение о будущем теста: остановить его или продолжить"
   ]
  },
  {
   "cell_type": "markdown",
   "id": "da6fc05b",
   "metadata": {
    "toc": true
   },
   "source": [
    "<h1>Содержание<span class=\"tocSkip\"></span></h1>\n",
    "<div class=\"toc\"><ul class=\"toc-item\"><li><span><a href=\"#Загрузка-и-изучение-данных\" data-toc-modified-id=\"Загрузка-и-изучение-данных-1\"><span class=\"toc-item-num\">1&nbsp;&nbsp;</span>Загрузка и изучение данных</a></span></li><li><span><a href=\"#Предобработка-данных\" data-toc-modified-id=\"Предобработка-данных-2\"><span class=\"toc-item-num\">2&nbsp;&nbsp;</span>Предобработка данных</a></span></li><li><span><a href=\"#Исследование-данных\" data-toc-modified-id=\"Исследование-данных-3\"><span class=\"toc-item-num\">3&nbsp;&nbsp;</span>Исследование данных</a></span></li><li><span><a href=\"#Приоритизация-гипотез\" data-toc-modified-id=\"Приоритизация-гипотез-4\"><span class=\"toc-item-num\">4&nbsp;&nbsp;</span>Приоритизация гипотез</a></span></li><li><span><a href=\"#Анализ-графиков-по-данным-А/В-теста\" data-toc-modified-id=\"Анализ-графиков-по-данным-А/В-теста-5\"><span class=\"toc-item-num\">5&nbsp;&nbsp;</span>Анализ графиков по данным А/В теста</a></span><ul class=\"toc-item\"><li><span><a href=\"#Кумулятивная-выручка-по-группам\" data-toc-modified-id=\"Кумулятивная-выручка-по-группам-5.1\"><span class=\"toc-item-num\">5.1&nbsp;&nbsp;</span>Кумулятивная выручка по группам</a></span></li><li><span><a href=\"#Кумулятивный-средний-чек-по-группам\" data-toc-modified-id=\"Кумулятивный-средний-чек-по-группам-5.2\"><span class=\"toc-item-num\">5.2&nbsp;&nbsp;</span>Кумулятивный средний чек по группам</a></span></li><li><span><a href=\"#Относительное-изменение-кумулятивного-среднего-чека-группы-B-к-группе-A\" data-toc-modified-id=\"Относительное-изменение-кумулятивного-среднего-чека-группы-B-к-группе-A-5.3\"><span class=\"toc-item-num\">5.3&nbsp;&nbsp;</span>Относительное изменение кумулятивного среднего чека группы B к группе A</a></span></li><li><span><a href=\"#Кумулятивная-конверсия-по-группам\" data-toc-modified-id=\"Кумулятивная-конверсия-по-группам-5.4\"><span class=\"toc-item-num\">5.4&nbsp;&nbsp;</span>Кумулятивная конверсия по группам</a></span></li><li><span><a href=\"#Относительное-изменение-кумулятивной-конверсии-группы-B-к-группе-A.\" data-toc-modified-id=\"Относительное-изменение-кумулятивной-конверсии-группы-B-к-группе-A.-5.5\"><span class=\"toc-item-num\">5.5&nbsp;&nbsp;</span>Относительное изменение кумулятивной конверсии группы B к группе A.</a></span></li><li><span><a href=\"#Анализ-стоимостей-заказов\" data-toc-modified-id=\"Анализ-стоимостей-заказов-5.6\"><span class=\"toc-item-num\">5.6&nbsp;&nbsp;</span>Анализ стоимостей заказов</a></span></li><li><span><a href=\"#Анализ-заказов,-сделанных-пользователями\" data-toc-modified-id=\"Анализ-заказов,-сделанных-пользователями-5.7\"><span class=\"toc-item-num\">5.7&nbsp;&nbsp;</span>Анализ заказов, сделанных пользователями</a></span></li></ul></li><li><span><a href=\"#Анализ-статистической-значимости-между-группами\" data-toc-modified-id=\"Анализ-статистической-значимости-между-группами-6\"><span class=\"toc-item-num\">6&nbsp;&nbsp;</span>Анализ статистической значимости между группами</a></span><ul class=\"toc-item\"><li><span><a href=\"#Различие-в-конверсии-по-«сырым»-данным\" data-toc-modified-id=\"Различие-в-конверсии-по-«сырым»-данным-6.1\"><span class=\"toc-item-num\">6.1&nbsp;&nbsp;</span>Различие в конверсии по «сырым» данным</a></span></li><li><span><a href=\"#Различие-в-среднем-чеке-заказа-по-«сырым»-данным\" data-toc-modified-id=\"Различие-в-среднем-чеке-заказа-по-«сырым»-данным-6.2\"><span class=\"toc-item-num\">6.2&nbsp;&nbsp;</span>Различие в среднем чеке заказа по «сырым» данным</a></span></li><li><span><a href=\"#Различие-в-конверсии-по-«очищенным»-данным\" data-toc-modified-id=\"Различие-в-конверсии-по-«очищенным»-данным-6.3\"><span class=\"toc-item-num\">6.3&nbsp;&nbsp;</span>Различие в конверсии по «очищенным» данным</a></span></li><li><span><a href=\"#Различие-в-среднем-чеке-по-«очищенным»-данным\" data-toc-modified-id=\"Различие-в-среднем-чеке-по-«очищенным»-данным-6.4\"><span class=\"toc-item-num\">6.4&nbsp;&nbsp;</span>Различие в среднем чеке по «очищенным» данным</a></span></li></ul></li><li><span><a href=\"#Выводы\" data-toc-modified-id=\"Выводы-7\"><span class=\"toc-item-num\">7&nbsp;&nbsp;</span>Выводы</a></span></li></ul></div>"
   ]
  },
  {
   "cell_type": "code",
   "execution_count": 56,
   "id": "440686a0",
   "metadata": {},
   "outputs": [],
   "source": [
    "import pandas as pd\n",
    "import matplotlib\n",
    "import matplotlib.pyplot as plt\n",
    "import numpy as np\n",
    "import datetime as dt\n",
    "import scipy.stats as st\n",
    "import seaborn as sns"
   ]
  },
  {
   "cell_type": "code",
   "execution_count": 57,
   "id": "49a38426",
   "metadata": {},
   "outputs": [],
   "source": [
    "plt.rcParams['figure.figsize'] = [15, 4]\n",
    "plt.rcParams['axes.grid'] = True\n",
    "pd.set_option('display.float_format', '{:,.3f}'.format)\n",
    "pd.plotting.register_matplotlib_converters()"
   ]
  },
  {
   "cell_type": "markdown",
   "id": "58fb93c9",
   "metadata": {},
   "source": [
    "## Загрузка и изучение данных"
   ]
  },
  {
   "cell_type": "code",
   "execution_count": 58,
   "id": "dddd121e",
   "metadata": {},
   "outputs": [
    {
     "data": {
      "text/html": [
       "<div>\n",
       "<style scoped>\n",
       "    .dataframe tbody tr th:only-of-type {\n",
       "        vertical-align: middle;\n",
       "    }\n",
       "\n",
       "    .dataframe tbody tr th {\n",
       "        vertical-align: top;\n",
       "    }\n",
       "\n",
       "    .dataframe thead th {\n",
       "        text-align: right;\n",
       "    }\n",
       "</style>\n",
       "<table border=\"1\" class=\"dataframe\">\n",
       "  <thead>\n",
       "    <tr style=\"text-align: right;\">\n",
       "      <th></th>\n",
       "      <th>Hypothesis</th>\n",
       "      <th>Reach</th>\n",
       "      <th>Impact</th>\n",
       "      <th>Confidence</th>\n",
       "      <th>Efforts</th>\n",
       "    </tr>\n",
       "  </thead>\n",
       "  <tbody>\n",
       "    <tr>\n",
       "      <th>0</th>\n",
       "      <td>Добавить два новых канала привлечения трафика, что позволит привлекать на 30% больше пользователей</td>\n",
       "      <td>3</td>\n",
       "      <td>10</td>\n",
       "      <td>8</td>\n",
       "      <td>6</td>\n",
       "    </tr>\n",
       "    <tr>\n",
       "      <th>1</th>\n",
       "      <td>Запустить собственную службу доставки, что сократит срок доставки заказов</td>\n",
       "      <td>2</td>\n",
       "      <td>5</td>\n",
       "      <td>4</td>\n",
       "      <td>10</td>\n",
       "    </tr>\n",
       "    <tr>\n",
       "      <th>2</th>\n",
       "      <td>Добавить блоки рекомендаций товаров на сайт интернет магазина, чтобы повысить конверсию и средний чек заказа</td>\n",
       "      <td>8</td>\n",
       "      <td>3</td>\n",
       "      <td>7</td>\n",
       "      <td>3</td>\n",
       "    </tr>\n",
       "    <tr>\n",
       "      <th>3</th>\n",
       "      <td>Изменить структура категорий, что увеличит конверсию, т.к. пользователи быстрее найдут нужный товар</td>\n",
       "      <td>8</td>\n",
       "      <td>3</td>\n",
       "      <td>3</td>\n",
       "      <td>8</td>\n",
       "    </tr>\n",
       "    <tr>\n",
       "      <th>4</th>\n",
       "      <td>Изменить цвет фона главной страницы, чтобы увеличить вовлеченность пользователей</td>\n",
       "      <td>3</td>\n",
       "      <td>1</td>\n",
       "      <td>1</td>\n",
       "      <td>1</td>\n",
       "    </tr>\n",
       "    <tr>\n",
       "      <th>5</th>\n",
       "      <td>Добавить страницу отзывов клиентов о магазине, что позволит увеличить количество заказов</td>\n",
       "      <td>3</td>\n",
       "      <td>2</td>\n",
       "      <td>2</td>\n",
       "      <td>3</td>\n",
       "    </tr>\n",
       "    <tr>\n",
       "      <th>6</th>\n",
       "      <td>Показать на главной странице баннеры с актуальными акциями и распродажами, чтобы увеличить конверсию</td>\n",
       "      <td>5</td>\n",
       "      <td>3</td>\n",
       "      <td>8</td>\n",
       "      <td>3</td>\n",
       "    </tr>\n",
       "    <tr>\n",
       "      <th>7</th>\n",
       "      <td>Добавить форму подписки на все основные страницы, чтобы собрать базу клиентов для email-рассылок</td>\n",
       "      <td>10</td>\n",
       "      <td>7</td>\n",
       "      <td>8</td>\n",
       "      <td>5</td>\n",
       "    </tr>\n",
       "    <tr>\n",
       "      <th>8</th>\n",
       "      <td>Запустить акцию, дающую скидку на товар в день рождения</td>\n",
       "      <td>1</td>\n",
       "      <td>9</td>\n",
       "      <td>9</td>\n",
       "      <td>5</td>\n",
       "    </tr>\n",
       "  </tbody>\n",
       "</table>\n",
       "</div>"
      ],
      "text/plain": [
       "                                                                                                     Hypothesis  \\\n",
       "0            Добавить два новых канала привлечения трафика, что позволит привлекать на 30% больше пользователей   \n",
       "1                                     Запустить собственную службу доставки, что сократит срок доставки заказов   \n",
       "2  Добавить блоки рекомендаций товаров на сайт интернет магазина, чтобы повысить конверсию и средний чек заказа   \n",
       "3           Изменить структура категорий, что увеличит конверсию, т.к. пользователи быстрее найдут нужный товар   \n",
       "4                              Изменить цвет фона главной страницы, чтобы увеличить вовлеченность пользователей   \n",
       "5                      Добавить страницу отзывов клиентов о магазине, что позволит увеличить количество заказов   \n",
       "6          Показать на главной странице баннеры с актуальными акциями и распродажами, чтобы увеличить конверсию   \n",
       "7              Добавить форму подписки на все основные страницы, чтобы собрать базу клиентов для email-рассылок   \n",
       "8                                                       Запустить акцию, дающую скидку на товар в день рождения   \n",
       "\n",
       "   Reach  Impact  Confidence  Efforts  \n",
       "0      3      10           8        6  \n",
       "1      2       5           4       10  \n",
       "2      8       3           7        3  \n",
       "3      8       3           3        8  \n",
       "4      3       1           1        1  \n",
       "5      3       2           2        3  \n",
       "6      5       3           8        3  \n",
       "7     10       7           8        5  \n",
       "8      1       9           9        5  "
      ]
     },
     "execution_count": 58,
     "metadata": {},
     "output_type": "execute_result"
    }
   ],
   "source": [
    "hypothesis = pd.read_csv()\n",
    "hypothesis"
   ]
  },
  {
   "cell_type": "markdown",
   "id": "7f76ce8e",
   "metadata": {},
   "source": [
    "Описание данных:  \n",
    "- `Hypothesis` — краткое описание гипотезы;\n",
    "- `Reach` — охват пользователей по 10-балльной шкале;\n",
    "- `Impact` — влияние на пользователей по 10-балльной шкале;\n",
    "- `Confidence` — уверенность в гипотезе по 10-балльной шкале;\n",
    "- `Efforts` — затраты ресурсов на проверку гипотезы по 10-балльной шкале. "
   ]
  },
  {
   "cell_type": "code",
   "execution_count": 59,
   "id": "ccb37629",
   "metadata": {
    "scrolled": true
   },
   "outputs": [
    {
     "data": {
      "text/html": [
       "<div>\n",
       "<style scoped>\n",
       "    .dataframe tbody tr th:only-of-type {\n",
       "        vertical-align: middle;\n",
       "    }\n",
       "\n",
       "    .dataframe tbody tr th {\n",
       "        vertical-align: top;\n",
       "    }\n",
       "\n",
       "    .dataframe thead th {\n",
       "        text-align: right;\n",
       "    }\n",
       "</style>\n",
       "<table border=\"1\" class=\"dataframe\">\n",
       "  <thead>\n",
       "    <tr style=\"text-align: right;\">\n",
       "      <th></th>\n",
       "      <th>transactionId</th>\n",
       "      <th>visitorId</th>\n",
       "      <th>date</th>\n",
       "      <th>revenue</th>\n",
       "      <th>group</th>\n",
       "    </tr>\n",
       "  </thead>\n",
       "  <tbody>\n",
       "    <tr>\n",
       "      <th>0</th>\n",
       "      <td>3667963787</td>\n",
       "      <td>3312258926</td>\n",
       "      <td>2019-08-15</td>\n",
       "      <td>1650</td>\n",
       "      <td>B</td>\n",
       "    </tr>\n",
       "    <tr>\n",
       "      <th>1</th>\n",
       "      <td>2804400009</td>\n",
       "      <td>3642806036</td>\n",
       "      <td>2019-08-15</td>\n",
       "      <td>730</td>\n",
       "      <td>B</td>\n",
       "    </tr>\n",
       "    <tr>\n",
       "      <th>2</th>\n",
       "      <td>2961555356</td>\n",
       "      <td>4069496402</td>\n",
       "      <td>2019-08-15</td>\n",
       "      <td>400</td>\n",
       "      <td>A</td>\n",
       "    </tr>\n",
       "    <tr>\n",
       "      <th>3</th>\n",
       "      <td>3797467345</td>\n",
       "      <td>1196621759</td>\n",
       "      <td>2019-08-15</td>\n",
       "      <td>9759</td>\n",
       "      <td>B</td>\n",
       "    </tr>\n",
       "    <tr>\n",
       "      <th>4</th>\n",
       "      <td>2282983706</td>\n",
       "      <td>2322279887</td>\n",
       "      <td>2019-08-15</td>\n",
       "      <td>2308</td>\n",
       "      <td>B</td>\n",
       "    </tr>\n",
       "  </tbody>\n",
       "</table>\n",
       "</div>"
      ],
      "text/plain": [
       "   transactionId   visitorId        date  revenue group\n",
       "0     3667963787  3312258926  2019-08-15     1650     B\n",
       "1     2804400009  3642806036  2019-08-15      730     B\n",
       "2     2961555356  4069496402  2019-08-15      400     A\n",
       "3     3797467345  1196621759  2019-08-15     9759     B\n",
       "4     2282983706  2322279887  2019-08-15     2308     B"
      ]
     },
     "execution_count": 59,
     "metadata": {},
     "output_type": "execute_result"
    }
   ],
   "source": [
    "orders = pd.read_csv()\n",
    "orders.head()"
   ]
  },
  {
   "cell_type": "markdown",
   "id": "83d6a757",
   "metadata": {},
   "source": [
    "Описание данных:  \n",
    "- `transactionId` — идентификатор заказа;\n",
    "- `visitorId` — идентификатор пользователя, совершившего заказ;\n",
    "- `date` — дата, когда был совершён заказ;\n",
    "- `revenue` — выручка заказа;\n",
    "- `group` — группа A/B-теста, в которую попал заказ."
   ]
  },
  {
   "cell_type": "code",
   "execution_count": 60,
   "id": "35e88e8a",
   "metadata": {},
   "outputs": [
    {
     "data": {
      "text/html": [
       "<div>\n",
       "<style scoped>\n",
       "    .dataframe tbody tr th:only-of-type {\n",
       "        vertical-align: middle;\n",
       "    }\n",
       "\n",
       "    .dataframe tbody tr th {\n",
       "        vertical-align: top;\n",
       "    }\n",
       "\n",
       "    .dataframe thead th {\n",
       "        text-align: right;\n",
       "    }\n",
       "</style>\n",
       "<table border=\"1\" class=\"dataframe\">\n",
       "  <thead>\n",
       "    <tr style=\"text-align: right;\">\n",
       "      <th></th>\n",
       "      <th>date</th>\n",
       "      <th>group</th>\n",
       "      <th>visitors</th>\n",
       "    </tr>\n",
       "  </thead>\n",
       "  <tbody>\n",
       "    <tr>\n",
       "      <th>0</th>\n",
       "      <td>2019-08-01</td>\n",
       "      <td>A</td>\n",
       "      <td>719</td>\n",
       "    </tr>\n",
       "    <tr>\n",
       "      <th>1</th>\n",
       "      <td>2019-08-02</td>\n",
       "      <td>A</td>\n",
       "      <td>619</td>\n",
       "    </tr>\n",
       "    <tr>\n",
       "      <th>2</th>\n",
       "      <td>2019-08-03</td>\n",
       "      <td>A</td>\n",
       "      <td>507</td>\n",
       "    </tr>\n",
       "    <tr>\n",
       "      <th>3</th>\n",
       "      <td>2019-08-04</td>\n",
       "      <td>A</td>\n",
       "      <td>717</td>\n",
       "    </tr>\n",
       "    <tr>\n",
       "      <th>4</th>\n",
       "      <td>2019-08-05</td>\n",
       "      <td>A</td>\n",
       "      <td>756</td>\n",
       "    </tr>\n",
       "  </tbody>\n",
       "</table>\n",
       "</div>"
      ],
      "text/plain": [
       "         date group  visitors\n",
       "0  2019-08-01     A       719\n",
       "1  2019-08-02     A       619\n",
       "2  2019-08-03     A       507\n",
       "3  2019-08-04     A       717\n",
       "4  2019-08-05     A       756"
      ]
     },
     "execution_count": 60,
     "metadata": {},
     "output_type": "execute_result"
    }
   ],
   "source": [
    "visitors = pd.read_csv()\n",
    "visitors.head()"
   ]
  },
  {
   "cell_type": "markdown",
   "id": "bf95c57a",
   "metadata": {},
   "source": [
    "Описание данных:  \n",
    "- `date` — дата;\n",
    "- `group` — группа A/B-теста;\n",
    "- `visitors` — количество пользователей в указанную дату в указанной группе A/B-теста"
   ]
  },
  {
   "cell_type": "markdown",
   "id": "46192736",
   "metadata": {},
   "source": [
    "## Предобработка данных"
   ]
  },
  {
   "cell_type": "markdown",
   "id": "542a06b4",
   "metadata": {},
   "source": [
    "В начале сразу сделаем названия колонок в таблице *hypothesis* со строчной буквы"
   ]
  },
  {
   "cell_type": "code",
   "execution_count": 61,
   "id": "6e5db9f4",
   "metadata": {},
   "outputs": [
    {
     "data": {
      "text/plain": [
       "Index(['hypothesis', 'reach', 'impact', 'confidence', 'efforts'], dtype='object')"
      ]
     },
     "execution_count": 61,
     "metadata": {},
     "output_type": "execute_result"
    }
   ],
   "source": [
    "hypothesis.columns = hypothesis.columns.str.lower()\n",
    "hypothesis.columns"
   ]
  },
  {
   "cell_type": "markdown",
   "id": "a872f22a",
   "metadata": {},
   "source": [
    "Проверим общую информацию в таблицах"
   ]
  },
  {
   "cell_type": "code",
   "execution_count": 62,
   "id": "4fbffa4d",
   "metadata": {},
   "outputs": [
    {
     "name": "stdout",
     "output_type": "stream",
     "text": [
      "<class 'pandas.core.frame.DataFrame'>\n",
      "RangeIndex: 9 entries, 0 to 8\n",
      "Data columns (total 5 columns):\n",
      " #   Column      Non-Null Count  Dtype \n",
      "---  ------      --------------  ----- \n",
      " 0   hypothesis  9 non-null      object\n",
      " 1   reach       9 non-null      int64 \n",
      " 2   impact      9 non-null      int64 \n",
      " 3   confidence  9 non-null      int64 \n",
      " 4   efforts     9 non-null      int64 \n",
      "dtypes: int64(4), object(1)\n",
      "memory usage: 488.0+ bytes\n"
     ]
    }
   ],
   "source": [
    "hypothesis.info()"
   ]
  },
  {
   "cell_type": "code",
   "execution_count": 63,
   "id": "e0cb0669",
   "metadata": {},
   "outputs": [
    {
     "name": "stdout",
     "output_type": "stream",
     "text": [
      "<class 'pandas.core.frame.DataFrame'>\n",
      "RangeIndex: 1197 entries, 0 to 1196\n",
      "Data columns (total 5 columns):\n",
      " #   Column         Non-Null Count  Dtype \n",
      "---  ------         --------------  ----- \n",
      " 0   transactionId  1197 non-null   int64 \n",
      " 1   visitorId      1197 non-null   int64 \n",
      " 2   date           1197 non-null   object\n",
      " 3   revenue        1197 non-null   int64 \n",
      " 4   group          1197 non-null   object\n",
      "dtypes: int64(3), object(2)\n",
      "memory usage: 46.9+ KB\n"
     ]
    }
   ],
   "source": [
    "orders.info()"
   ]
  },
  {
   "cell_type": "code",
   "execution_count": 64,
   "id": "d9e6abe0",
   "metadata": {},
   "outputs": [
    {
     "name": "stdout",
     "output_type": "stream",
     "text": [
      "<class 'pandas.core.frame.DataFrame'>\n",
      "RangeIndex: 62 entries, 0 to 61\n",
      "Data columns (total 3 columns):\n",
      " #   Column    Non-Null Count  Dtype \n",
      "---  ------    --------------  ----- \n",
      " 0   date      62 non-null     object\n",
      " 1   group     62 non-null     object\n",
      " 2   visitors  62 non-null     int64 \n",
      "dtypes: int64(1), object(2)\n",
      "memory usage: 1.6+ KB\n"
     ]
    }
   ],
   "source": [
    "visitors.info()"
   ]
  },
  {
   "cell_type": "markdown",
   "id": "6b4eb4e1",
   "metadata": {},
   "source": [
    "Необходимо изменить тип данных в колонках с датами - привести к типу *datetime*"
   ]
  },
  {
   "cell_type": "code",
   "execution_count": 65,
   "id": "9ca19a8f",
   "metadata": {},
   "outputs": [],
   "source": [
    "orders['date'] = orders['date'].map(lambda x: dt.datetime.strptime(x, '%Y-%m-%d'))"
   ]
  },
  {
   "cell_type": "code",
   "execution_count": 66,
   "id": "59d3dad6",
   "metadata": {},
   "outputs": [],
   "source": [
    "visitors['date'] = visitors['date'].map(lambda x: dt.datetime.strptime(x, '%Y-%m-%d'))"
   ]
  },
  {
   "cell_type": "markdown",
   "id": "31a435cf",
   "metadata": {},
   "source": [
    "Теперь посмотрим на общую статистику в таблицах"
   ]
  },
  {
   "cell_type": "code",
   "execution_count": 67,
   "id": "5b16e77c",
   "metadata": {},
   "outputs": [
    {
     "data": {
      "text/plain": [
       "count       1,197.000\n",
       "mean        8,348.006\n",
       "std        39,191.132\n",
       "min            50.000\n",
       "25%         1,220.000\n",
       "50%         2,978.000\n",
       "75%         8,290.000\n",
       "max     1,294,500.000\n",
       "Name: revenue, dtype: float64"
      ]
     },
     "execution_count": 67,
     "metadata": {},
     "output_type": "execute_result"
    }
   ],
   "source": [
    "orders['revenue'].describe()"
   ]
  },
  {
   "cell_type": "code",
   "execution_count": 68,
   "id": "decbff3c",
   "metadata": {},
   "outputs": [
    {
     "data": {
      "text/plain": [
       "count    62.000\n",
       "mean    607.290\n",
       "std     114.401\n",
       "min     361.000\n",
       "25%     534.000\n",
       "50%     624.500\n",
       "75%     710.500\n",
       "max     770.000\n",
       "Name: visitors, dtype: float64"
      ]
     },
     "execution_count": 68,
     "metadata": {},
     "output_type": "execute_result"
    }
   ],
   "source": [
    "visitors['visitors'].describe()"
   ]
  },
  {
   "cell_type": "markdown",
   "id": "69f88199",
   "metadata": {},
   "source": [
    "Аномалий, таких как отрицательные значения или нулевые, нет. Посмотрим есть ли пропуски и дупликаты"
   ]
  },
  {
   "cell_type": "code",
   "execution_count": 69,
   "id": "2950ecf9",
   "metadata": {},
   "outputs": [
    {
     "data": {
      "text/plain": [
       "transactionId    0\n",
       "visitorId        0\n",
       "date             0\n",
       "revenue          0\n",
       "group            0\n",
       "date             0\n",
       "group            0\n",
       "visitors         0\n",
       "dtype: int64"
      ]
     },
     "execution_count": 69,
     "metadata": {},
     "output_type": "execute_result"
    }
   ],
   "source": [
    "pd.concat([orders.isna().sum(), visitors.isna().sum()])"
   ]
  },
  {
   "cell_type": "code",
   "execution_count": 70,
   "id": "e15a0558",
   "metadata": {},
   "outputs": [
    {
     "data": {
      "text/plain": [
       "0"
      ]
     },
     "execution_count": 70,
     "metadata": {},
     "output_type": "execute_result"
    }
   ],
   "source": [
    "orders.duplicated().sum()"
   ]
  },
  {
   "cell_type": "code",
   "execution_count": 71,
   "id": "b0a212e3",
   "metadata": {},
   "outputs": [
    {
     "data": {
      "text/plain": [
       "0"
      ]
     },
     "execution_count": 71,
     "metadata": {},
     "output_type": "execute_result"
    }
   ],
   "source": [
    "visitors.duplicated().sum()"
   ]
  },
  {
   "cell_type": "markdown",
   "id": "8a5b1d3b",
   "metadata": {},
   "source": [
    "**Вывод**\n",
    "\n",
    "Таблица *hypothesis* содержит информацию о 9 гипотезах и их оценках по 10-балльной шкале, таблица *orders* содержит информацию о заказах и выручке в 1196 событиях в 5 колонках, таблица *visitors* содержит информацию о количестве пользователей по дням в 61 строке по 3 колонки. Пропусков и дупликатов в данных нет, типы данных приведены: можно продолжить исследование."
   ]
  },
  {
   "cell_type": "markdown",
   "id": "b63ed410",
   "metadata": {},
   "source": [
    "## Исследование данных\n",
    "\n",
    "Сначала посмотрим период, за который предоставлены данные"
   ]
  },
  {
   "cell_type": "code",
   "execution_count": 72,
   "id": "7ade68e7",
   "metadata": {
    "scrolled": true
   },
   "outputs": [
    {
     "name": "stdout",
     "output_type": "stream",
     "text": [
      "\n",
      "Самая ранняя дата  2019-08-01 00:00:00\n",
      "Самая поздняя дата  2019-08-31 00:00:00\n",
      "\n"
     ]
    }
   ],
   "source": [
    "print(f\"\"\"\n",
    "Самая ранняя дата  {visitors['date'].min()}\n",
    "Самая поздняя дата  {visitors['date'].max()}\n",
    "\"\"\")"
   ]
  },
  {
   "cell_type": "markdown",
   "id": "6857dded",
   "metadata": {},
   "source": [
    "Тест проходил с 1 по 31 августа 2019. Посмотрим сколько пользователей в каждой группе"
   ]
  },
  {
   "cell_type": "code",
   "execution_count": 73,
   "id": "45ad8c3b",
   "metadata": {},
   "outputs": [
    {
     "name": "stdout",
     "output_type": "stream",
     "text": [
      "\n",
      "Посетителей в группе А: 18736\n",
      "           покупателей: 503\n",
      "Посетителей в группе В  18916\n",
      "           покупателей: 586\n",
      "\n"
     ]
    }
   ],
   "source": [
    "print(f\"\"\"\n",
    "Посетителей в группе А: {visitors.query('group == \"A\"')['visitors'].sum()}\n",
    "           покупателей: {orders.query('group == \"A\"')['visitorId'].nunique()}\n",
    "Посетителей в группе В  {visitors.query('group == \"B\"')['visitors'].sum()}\n",
    "           покупателей: {orders.query('group == \"B\"')['visitorId'].nunique()}\n",
    "\"\"\")"
   ]
  },
  {
   "cell_type": "markdown",
   "id": "b1c042d2",
   "metadata": {},
   "source": [
    "Посмотрим пересекаются ли группы в таблице *orders*."
   ]
  },
  {
   "cell_type": "code",
   "execution_count": 74,
   "id": "3e61047b",
   "metadata": {},
   "outputs": [
    {
     "data": {
      "text/plain": [
       "58"
      ]
     },
     "execution_count": 74,
     "metadata": {},
     "output_type": "execute_result"
    }
   ],
   "source": [
    "len(set(orders.query('group == \"A\"')['visitorId'].unique())\n",
    "    & set(orders.query('group == \"B\"')['visitorId'].unique()))"
   ]
  },
  {
   "cell_type": "markdown",
   "id": "3142df44",
   "metadata": {},
   "source": [
    "58 участников попали и в группу А и в группу В, для проведения корректного статистического теста их лучше удалить."
   ]
  },
  {
   "cell_type": "code",
   "execution_count": 75,
   "id": "5a3e31e5",
   "metadata": {},
   "outputs": [],
   "source": [
    "droped_visitors = (set(orders.query('group == \"A\"')['visitorId'].unique())\n",
    "    & set(orders.query('group == \"B\"')['visitorId'].unique()))\n",
    "orders = orders.query('visitorId not in @droped_visitors')"
   ]
  },
  {
   "cell_type": "code",
   "execution_count": 76,
   "id": "6f3f3ed8",
   "metadata": {},
   "outputs": [
    {
     "name": "stdout",
     "output_type": "stream",
     "text": [
      "Удаленных покупателей 5.96%\n"
     ]
    }
   ],
   "source": [
    "print(f'Удаленных покупателей {len(droped_visitors)/len(orders[\"visitorId\"].unique()):.2%}')"
   ]
  },
  {
   "cell_type": "markdown",
   "id": "783d080d",
   "metadata": {},
   "source": [
    "Полностью эти люди не удалятся: они останутся в таблице *visitors*, но как посетители с нулевыми заказами."
   ]
  },
  {
   "cell_type": "markdown",
   "id": "d0757507",
   "metadata": {},
   "source": [
    "## Приоритизация гипотез"
   ]
  },
  {
   "cell_type": "markdown",
   "id": "6a57b10b",
   "metadata": {},
   "source": [
    "Сначала применим фреймворк ICE, создадим столбец ICE и отсортируем по нему по убыванию"
   ]
  },
  {
   "cell_type": "code",
   "execution_count": 77,
   "id": "8b6b4a25",
   "metadata": {
    "scrolled": true
   },
   "outputs": [],
   "source": [
    "hypothesis['ICE'] = ((hypothesis['impact'] * hypothesis['confidence']) /\n",
    "                     hypothesis['efforts']).astype('int')"
   ]
  },
  {
   "cell_type": "code",
   "execution_count": 78,
   "id": "cf95a8ac",
   "metadata": {},
   "outputs": [
    {
     "data": {
      "text/html": [
       "<div>\n",
       "<style scoped>\n",
       "    .dataframe tbody tr th:only-of-type {\n",
       "        vertical-align: middle;\n",
       "    }\n",
       "\n",
       "    .dataframe tbody tr th {\n",
       "        vertical-align: top;\n",
       "    }\n",
       "\n",
       "    .dataframe thead th {\n",
       "        text-align: right;\n",
       "    }\n",
       "</style>\n",
       "<table border=\"1\" class=\"dataframe\">\n",
       "  <thead>\n",
       "    <tr style=\"text-align: right;\">\n",
       "      <th></th>\n",
       "      <th>hypothesis</th>\n",
       "      <th>reach</th>\n",
       "      <th>impact</th>\n",
       "      <th>confidence</th>\n",
       "      <th>efforts</th>\n",
       "      <th>ICE</th>\n",
       "    </tr>\n",
       "  </thead>\n",
       "  <tbody>\n",
       "    <tr>\n",
       "      <th>8</th>\n",
       "      <td>Запустить акцию, дающую скидку на товар в день рождения</td>\n",
       "      <td>1</td>\n",
       "      <td>9</td>\n",
       "      <td>9</td>\n",
       "      <td>5</td>\n",
       "      <td>16</td>\n",
       "    </tr>\n",
       "    <tr>\n",
       "      <th>0</th>\n",
       "      <td>Добавить два новых канала привлечения трафика, что позволит привлекать на 30% больше пользователей</td>\n",
       "      <td>3</td>\n",
       "      <td>10</td>\n",
       "      <td>8</td>\n",
       "      <td>6</td>\n",
       "      <td>13</td>\n",
       "    </tr>\n",
       "    <tr>\n",
       "      <th>7</th>\n",
       "      <td>Добавить форму подписки на все основные страницы, чтобы собрать базу клиентов для email-рассылок</td>\n",
       "      <td>10</td>\n",
       "      <td>7</td>\n",
       "      <td>8</td>\n",
       "      <td>5</td>\n",
       "      <td>11</td>\n",
       "    </tr>\n",
       "    <tr>\n",
       "      <th>6</th>\n",
       "      <td>Показать на главной странице баннеры с актуальными акциями и распродажами, чтобы увеличить конверсию</td>\n",
       "      <td>5</td>\n",
       "      <td>3</td>\n",
       "      <td>8</td>\n",
       "      <td>3</td>\n",
       "      <td>8</td>\n",
       "    </tr>\n",
       "    <tr>\n",
       "      <th>2</th>\n",
       "      <td>Добавить блоки рекомендаций товаров на сайт интернет магазина, чтобы повысить конверсию и средний чек заказа</td>\n",
       "      <td>8</td>\n",
       "      <td>3</td>\n",
       "      <td>7</td>\n",
       "      <td>3</td>\n",
       "      <td>7</td>\n",
       "    </tr>\n",
       "    <tr>\n",
       "      <th>1</th>\n",
       "      <td>Запустить собственную службу доставки, что сократит срок доставки заказов</td>\n",
       "      <td>2</td>\n",
       "      <td>5</td>\n",
       "      <td>4</td>\n",
       "      <td>10</td>\n",
       "      <td>2</td>\n",
       "    </tr>\n",
       "    <tr>\n",
       "      <th>3</th>\n",
       "      <td>Изменить структура категорий, что увеличит конверсию, т.к. пользователи быстрее найдут нужный товар</td>\n",
       "      <td>8</td>\n",
       "      <td>3</td>\n",
       "      <td>3</td>\n",
       "      <td>8</td>\n",
       "      <td>1</td>\n",
       "    </tr>\n",
       "    <tr>\n",
       "      <th>4</th>\n",
       "      <td>Изменить цвет фона главной страницы, чтобы увеличить вовлеченность пользователей</td>\n",
       "      <td>3</td>\n",
       "      <td>1</td>\n",
       "      <td>1</td>\n",
       "      <td>1</td>\n",
       "      <td>1</td>\n",
       "    </tr>\n",
       "    <tr>\n",
       "      <th>5</th>\n",
       "      <td>Добавить страницу отзывов клиентов о магазине, что позволит увеличить количество заказов</td>\n",
       "      <td>3</td>\n",
       "      <td>2</td>\n",
       "      <td>2</td>\n",
       "      <td>3</td>\n",
       "      <td>1</td>\n",
       "    </tr>\n",
       "  </tbody>\n",
       "</table>\n",
       "</div>"
      ],
      "text/plain": [
       "                                                                                                     hypothesis  \\\n",
       "8                                                       Запустить акцию, дающую скидку на товар в день рождения   \n",
       "0            Добавить два новых канала привлечения трафика, что позволит привлекать на 30% больше пользователей   \n",
       "7              Добавить форму подписки на все основные страницы, чтобы собрать базу клиентов для email-рассылок   \n",
       "6          Показать на главной странице баннеры с актуальными акциями и распродажами, чтобы увеличить конверсию   \n",
       "2  Добавить блоки рекомендаций товаров на сайт интернет магазина, чтобы повысить конверсию и средний чек заказа   \n",
       "1                                     Запустить собственную службу доставки, что сократит срок доставки заказов   \n",
       "3           Изменить структура категорий, что увеличит конверсию, т.к. пользователи быстрее найдут нужный товар   \n",
       "4                              Изменить цвет фона главной страницы, чтобы увеличить вовлеченность пользователей   \n",
       "5                      Добавить страницу отзывов клиентов о магазине, что позволит увеличить количество заказов   \n",
       "\n",
       "   reach  impact  confidence  efforts  ICE  \n",
       "8      1       9           9        5   16  \n",
       "0      3      10           8        6   13  \n",
       "7     10       7           8        5   11  \n",
       "6      5       3           8        3    8  \n",
       "2      8       3           7        3    7  \n",
       "1      2       5           4       10    2  \n",
       "3      8       3           3        8    1  \n",
       "4      3       1           1        1    1  \n",
       "5      3       2           2        3    1  "
      ]
     },
     "execution_count": 78,
     "metadata": {},
     "output_type": "execute_result"
    }
   ],
   "source": [
    "pd.set_option('display.max_colwidth', 110)\n",
    "hypothesis.sort_values(by='ICE', ascending=False)"
   ]
  },
  {
   "cell_type": "markdown",
   "id": "1f7f39ce",
   "metadata": {},
   "source": [
    "То же самое повторим для фреймворка RICE"
   ]
  },
  {
   "cell_type": "code",
   "execution_count": 79,
   "id": "09bda146",
   "metadata": {},
   "outputs": [],
   "source": [
    "hypothesis['RICE'] = ((hypothesis['reach'] * hypothesis['impact'] *\n",
    "                       hypothesis['confidence']) / \n",
    "                      hypothesis['efforts']).astype('int')"
   ]
  },
  {
   "cell_type": "code",
   "execution_count": 80,
   "id": "83450f9d",
   "metadata": {},
   "outputs": [
    {
     "data": {
      "text/html": [
       "<style  type=\"text/css\" >\n",
       "#T_b9d95_row0_col5{\n",
       "            background-color:  #e95e0d;\n",
       "            color:  #000000;\n",
       "        }#T_b9d95_row0_col6,#T_b9d95_row4_col5{\n",
       "            background-color:  #7f2704;\n",
       "            color:  #f1f1f1;\n",
       "        }#T_b9d95_row1_col5{\n",
       "            background-color:  #fda762;\n",
       "            color:  #000000;\n",
       "        }#T_b9d95_row1_col6{\n",
       "            background-color:  #fd9141;\n",
       "            color:  #000000;\n",
       "        }#T_b9d95_row2_col5{\n",
       "            background-color:  #c54102;\n",
       "            color:  #f1f1f1;\n",
       "        }#T_b9d95_row2_col6,#T_b9d95_row3_col6{\n",
       "            background-color:  #fdb87c;\n",
       "            color:  #000000;\n",
       "        }#T_b9d95_row3_col5{\n",
       "            background-color:  #fd9649;\n",
       "            color:  #000000;\n",
       "        }#T_b9d95_row4_col6{\n",
       "            background-color:  #fee7d0;\n",
       "            color:  #000000;\n",
       "        }#T_b9d95_row5_col5,#T_b9d95_row7_col5,#T_b9d95_row8_col5,#T_b9d95_row8_col6{\n",
       "            background-color:  #fff5eb;\n",
       "            color:  #000000;\n",
       "        }#T_b9d95_row5_col6{\n",
       "            background-color:  #ffeede;\n",
       "            color:  #000000;\n",
       "        }#T_b9d95_row6_col5{\n",
       "            background-color:  #feeddc;\n",
       "            color:  #000000;\n",
       "        }#T_b9d95_row6_col6,#T_b9d95_row7_col6{\n",
       "            background-color:  #fff4e9;\n",
       "            color:  #000000;\n",
       "        }</style><table id=\"T_b9d95_\" ><thead>    <tr>        <th class=\"blank level0\" ></th>        <th class=\"col_heading level0 col0\" >hypothesis</th>        <th class=\"col_heading level0 col1\" >reach</th>        <th class=\"col_heading level0 col2\" >impact</th>        <th class=\"col_heading level0 col3\" >confidence</th>        <th class=\"col_heading level0 col4\" >efforts</th>        <th class=\"col_heading level0 col5\" >ICE</th>        <th class=\"col_heading level0 col6\" >RICE</th>    </tr></thead><tbody>\n",
       "                <tr>\n",
       "                        <th id=\"T_b9d95_level0_row0\" class=\"row_heading level0 row0\" >7</th>\n",
       "                        <td id=\"T_b9d95_row0_col0\" class=\"data row0 col0\" >Добавить форму подписки на все основные страницы, чтобы собрать базу клиентов для email-рассылок</td>\n",
       "                        <td id=\"T_b9d95_row0_col1\" class=\"data row0 col1\" >10</td>\n",
       "                        <td id=\"T_b9d95_row0_col2\" class=\"data row0 col2\" >7</td>\n",
       "                        <td id=\"T_b9d95_row0_col3\" class=\"data row0 col3\" >8</td>\n",
       "                        <td id=\"T_b9d95_row0_col4\" class=\"data row0 col4\" >5</td>\n",
       "                        <td id=\"T_b9d95_row0_col5\" class=\"data row0 col5\" >11</td>\n",
       "                        <td id=\"T_b9d95_row0_col6\" class=\"data row0 col6\" >112</td>\n",
       "            </tr>\n",
       "            <tr>\n",
       "                        <th id=\"T_b9d95_level0_row1\" class=\"row_heading level0 row1\" >2</th>\n",
       "                        <td id=\"T_b9d95_row1_col0\" class=\"data row1 col0\" >Добавить блоки рекомендаций товаров на сайт интернет магазина, чтобы повысить конверсию и средний чек заказа</td>\n",
       "                        <td id=\"T_b9d95_row1_col1\" class=\"data row1 col1\" >8</td>\n",
       "                        <td id=\"T_b9d95_row1_col2\" class=\"data row1 col2\" >3</td>\n",
       "                        <td id=\"T_b9d95_row1_col3\" class=\"data row1 col3\" >7</td>\n",
       "                        <td id=\"T_b9d95_row1_col4\" class=\"data row1 col4\" >3</td>\n",
       "                        <td id=\"T_b9d95_row1_col5\" class=\"data row1 col5\" >7</td>\n",
       "                        <td id=\"T_b9d95_row1_col6\" class=\"data row1 col6\" >56</td>\n",
       "            </tr>\n",
       "            <tr>\n",
       "                        <th id=\"T_b9d95_level0_row2\" class=\"row_heading level0 row2\" >0</th>\n",
       "                        <td id=\"T_b9d95_row2_col0\" class=\"data row2 col0\" >Добавить два новых канала привлечения трафика, что позволит привлекать на 30% больше пользователей</td>\n",
       "                        <td id=\"T_b9d95_row2_col1\" class=\"data row2 col1\" >3</td>\n",
       "                        <td id=\"T_b9d95_row2_col2\" class=\"data row2 col2\" >10</td>\n",
       "                        <td id=\"T_b9d95_row2_col3\" class=\"data row2 col3\" >8</td>\n",
       "                        <td id=\"T_b9d95_row2_col4\" class=\"data row2 col4\" >6</td>\n",
       "                        <td id=\"T_b9d95_row2_col5\" class=\"data row2 col5\" >13</td>\n",
       "                        <td id=\"T_b9d95_row2_col6\" class=\"data row2 col6\" >40</td>\n",
       "            </tr>\n",
       "            <tr>\n",
       "                        <th id=\"T_b9d95_level0_row3\" class=\"row_heading level0 row3\" >6</th>\n",
       "                        <td id=\"T_b9d95_row3_col0\" class=\"data row3 col0\" >Показать на главной странице баннеры с актуальными акциями и распродажами, чтобы увеличить конверсию</td>\n",
       "                        <td id=\"T_b9d95_row3_col1\" class=\"data row3 col1\" >5</td>\n",
       "                        <td id=\"T_b9d95_row3_col2\" class=\"data row3 col2\" >3</td>\n",
       "                        <td id=\"T_b9d95_row3_col3\" class=\"data row3 col3\" >8</td>\n",
       "                        <td id=\"T_b9d95_row3_col4\" class=\"data row3 col4\" >3</td>\n",
       "                        <td id=\"T_b9d95_row3_col5\" class=\"data row3 col5\" >8</td>\n",
       "                        <td id=\"T_b9d95_row3_col6\" class=\"data row3 col6\" >40</td>\n",
       "            </tr>\n",
       "            <tr>\n",
       "                        <th id=\"T_b9d95_level0_row4\" class=\"row_heading level0 row4\" >8</th>\n",
       "                        <td id=\"T_b9d95_row4_col0\" class=\"data row4 col0\" >Запустить акцию, дающую скидку на товар в день рождения</td>\n",
       "                        <td id=\"T_b9d95_row4_col1\" class=\"data row4 col1\" >1</td>\n",
       "                        <td id=\"T_b9d95_row4_col2\" class=\"data row4 col2\" >9</td>\n",
       "                        <td id=\"T_b9d95_row4_col3\" class=\"data row4 col3\" >9</td>\n",
       "                        <td id=\"T_b9d95_row4_col4\" class=\"data row4 col4\" >5</td>\n",
       "                        <td id=\"T_b9d95_row4_col5\" class=\"data row4 col5\" >16</td>\n",
       "                        <td id=\"T_b9d95_row4_col6\" class=\"data row4 col6\" >16</td>\n",
       "            </tr>\n",
       "            <tr>\n",
       "                        <th id=\"T_b9d95_level0_row5\" class=\"row_heading level0 row5\" >3</th>\n",
       "                        <td id=\"T_b9d95_row5_col0\" class=\"data row5 col0\" >Изменить структура категорий, что увеличит конверсию, т.к. пользователи быстрее найдут нужный товар</td>\n",
       "                        <td id=\"T_b9d95_row5_col1\" class=\"data row5 col1\" >8</td>\n",
       "                        <td id=\"T_b9d95_row5_col2\" class=\"data row5 col2\" >3</td>\n",
       "                        <td id=\"T_b9d95_row5_col3\" class=\"data row5 col3\" >3</td>\n",
       "                        <td id=\"T_b9d95_row5_col4\" class=\"data row5 col4\" >8</td>\n",
       "                        <td id=\"T_b9d95_row5_col5\" class=\"data row5 col5\" >1</td>\n",
       "                        <td id=\"T_b9d95_row5_col6\" class=\"data row5 col6\" >9</td>\n",
       "            </tr>\n",
       "            <tr>\n",
       "                        <th id=\"T_b9d95_level0_row6\" class=\"row_heading level0 row6\" >1</th>\n",
       "                        <td id=\"T_b9d95_row6_col0\" class=\"data row6 col0\" >Запустить собственную службу доставки, что сократит срок доставки заказов</td>\n",
       "                        <td id=\"T_b9d95_row6_col1\" class=\"data row6 col1\" >2</td>\n",
       "                        <td id=\"T_b9d95_row6_col2\" class=\"data row6 col2\" >5</td>\n",
       "                        <td id=\"T_b9d95_row6_col3\" class=\"data row6 col3\" >4</td>\n",
       "                        <td id=\"T_b9d95_row6_col4\" class=\"data row6 col4\" >10</td>\n",
       "                        <td id=\"T_b9d95_row6_col5\" class=\"data row6 col5\" >2</td>\n",
       "                        <td id=\"T_b9d95_row6_col6\" class=\"data row6 col6\" >4</td>\n",
       "            </tr>\n",
       "            <tr>\n",
       "                        <th id=\"T_b9d95_level0_row7\" class=\"row_heading level0 row7\" >5</th>\n",
       "                        <td id=\"T_b9d95_row7_col0\" class=\"data row7 col0\" >Добавить страницу отзывов клиентов о магазине, что позволит увеличить количество заказов</td>\n",
       "                        <td id=\"T_b9d95_row7_col1\" class=\"data row7 col1\" >3</td>\n",
       "                        <td id=\"T_b9d95_row7_col2\" class=\"data row7 col2\" >2</td>\n",
       "                        <td id=\"T_b9d95_row7_col3\" class=\"data row7 col3\" >2</td>\n",
       "                        <td id=\"T_b9d95_row7_col4\" class=\"data row7 col4\" >3</td>\n",
       "                        <td id=\"T_b9d95_row7_col5\" class=\"data row7 col5\" >1</td>\n",
       "                        <td id=\"T_b9d95_row7_col6\" class=\"data row7 col6\" >4</td>\n",
       "            </tr>\n",
       "            <tr>\n",
       "                        <th id=\"T_b9d95_level0_row8\" class=\"row_heading level0 row8\" >4</th>\n",
       "                        <td id=\"T_b9d95_row8_col0\" class=\"data row8 col0\" >Изменить цвет фона главной страницы, чтобы увеличить вовлеченность пользователей</td>\n",
       "                        <td id=\"T_b9d95_row8_col1\" class=\"data row8 col1\" >3</td>\n",
       "                        <td id=\"T_b9d95_row8_col2\" class=\"data row8 col2\" >1</td>\n",
       "                        <td id=\"T_b9d95_row8_col3\" class=\"data row8 col3\" >1</td>\n",
       "                        <td id=\"T_b9d95_row8_col4\" class=\"data row8 col4\" >1</td>\n",
       "                        <td id=\"T_b9d95_row8_col5\" class=\"data row8 col5\" >1</td>\n",
       "                        <td id=\"T_b9d95_row8_col6\" class=\"data row8 col6\" >3</td>\n",
       "            </tr>\n",
       "    </tbody></table>"
      ],
      "text/plain": [
       "<pandas.io.formats.style.Styler at 0x1c3b04ead60>"
      ]
     },
     "execution_count": 80,
     "metadata": {},
     "output_type": "execute_result"
    }
   ],
   "source": [
    "(hypothesis.sort_values(by='RICE', ascending=False)\n",
    " .style.background_gradient('Oranges', subset=['ICE', 'RICE']))"
   ]
  },
  {
   "cell_type": "markdown",
   "id": "5d706fcc",
   "metadata": {},
   "source": [
    "**Вывод**\n",
    "\n",
    "В обоих фреймворках пятерка приоритетных гипотез не изменилась, но в первом случае на первом месте акция со скидкой в день рождения, а во втором - формы подписки на страницы сайта. Так произошло, потому что метод ICE не учитывает охват пользователей (столбец `reach`), а метод RICE его учитыает и в данном случае гипотеза о добавлении формы подписки затронет каждого пользователя, зашедшего на сайт и *reach* в данном случае максимален."
   ]
  },
  {
   "cell_type": "markdown",
   "id": "bfc9e6d2",
   "metadata": {},
   "source": [
    "## Анализ графиков по данным А/В теста"
   ]
  },
  {
   "cell_type": "markdown",
   "id": "83186484",
   "metadata": {},
   "source": [
    "Для анализа создадим агрегированную таблицу, в которой данные будут сгруппированы по дням. В таблице будет информация для каждой группы о количестве посетителей в день `visitorsPerDate`, общее количество посетителей на текущий день `visitorsCummulative`, количество заказов `orders` и сумма выручки `revenue` в день, количество заказов `ordersCummulative` и сумма выручки `revenueCummulative` на текущий день. А также, для расчета кумулятивной конверсии - количество уникальных покупателей на текущий день `buyersCummulative`.\n",
    "\n",
    "Для группы А"
   ]
  },
  {
   "cell_type": "code",
   "execution_count": 81,
   "id": "6e260f49",
   "metadata": {
    "scrolled": true
   },
   "outputs": [
    {
     "data": {
      "text/html": [
       "<div>\n",
       "<style scoped>\n",
       "    .dataframe tbody tr th:only-of-type {\n",
       "        vertical-align: middle;\n",
       "    }\n",
       "\n",
       "    .dataframe tbody tr th {\n",
       "        vertical-align: top;\n",
       "    }\n",
       "\n",
       "    .dataframe thead th {\n",
       "        text-align: right;\n",
       "    }\n",
       "</style>\n",
       "<table border=\"1\" class=\"dataframe\">\n",
       "  <thead>\n",
       "    <tr style=\"text-align: right;\">\n",
       "      <th></th>\n",
       "      <th>date</th>\n",
       "      <th>visitorsPerDateA</th>\n",
       "      <th>visitorsCummulativeA</th>\n",
       "      <th>ordersA</th>\n",
       "      <th>ordersCummulativeA</th>\n",
       "      <th>revenueA</th>\n",
       "      <th>revenueCummulativeA</th>\n",
       "      <th>buyersCummulativeA</th>\n",
       "    </tr>\n",
       "  </thead>\n",
       "  <tbody>\n",
       "    <tr>\n",
       "      <th>0</th>\n",
       "      <td>2019-08-01</td>\n",
       "      <td>719</td>\n",
       "      <td>719</td>\n",
       "      <td>23</td>\n",
       "      <td>23</td>\n",
       "      <td>142779</td>\n",
       "      <td>142779</td>\n",
       "      <td>19</td>\n",
       "    </tr>\n",
       "    <tr>\n",
       "      <th>1</th>\n",
       "      <td>2019-08-02</td>\n",
       "      <td>619</td>\n",
       "      <td>1338</td>\n",
       "      <td>19</td>\n",
       "      <td>42</td>\n",
       "      <td>91602</td>\n",
       "      <td>234381</td>\n",
       "      <td>36</td>\n",
       "    </tr>\n",
       "    <tr>\n",
       "      <th>2</th>\n",
       "      <td>2019-08-03</td>\n",
       "      <td>507</td>\n",
       "      <td>1845</td>\n",
       "      <td>24</td>\n",
       "      <td>66</td>\n",
       "      <td>112473</td>\n",
       "      <td>346854</td>\n",
       "      <td>60</td>\n",
       "    </tr>\n",
       "    <tr>\n",
       "      <th>3</th>\n",
       "      <td>2019-08-04</td>\n",
       "      <td>717</td>\n",
       "      <td>2562</td>\n",
       "      <td>11</td>\n",
       "      <td>77</td>\n",
       "      <td>41176</td>\n",
       "      <td>388030</td>\n",
       "      <td>71</td>\n",
       "    </tr>\n",
       "    <tr>\n",
       "      <th>4</th>\n",
       "      <td>2019-08-05</td>\n",
       "      <td>756</td>\n",
       "      <td>3318</td>\n",
       "      <td>22</td>\n",
       "      <td>99</td>\n",
       "      <td>86383</td>\n",
       "      <td>474413</td>\n",
       "      <td>92</td>\n",
       "    </tr>\n",
       "  </tbody>\n",
       "</table>\n",
       "</div>"
      ],
      "text/plain": [
       "        date  visitorsPerDateA  visitorsCummulativeA  ordersA  \\\n",
       "0 2019-08-01               719                   719       23   \n",
       "1 2019-08-02               619                  1338       19   \n",
       "2 2019-08-03               507                  1845       24   \n",
       "3 2019-08-04               717                  2562       11   \n",
       "4 2019-08-05               756                  3318       22   \n",
       "\n",
       "   ordersCummulativeA  revenueA  revenueCummulativeA  buyersCummulativeA  \n",
       "0                  23    142779               142779                  19  \n",
       "1                  42     91602               234381                  36  \n",
       "2                  66    112473               346854                  60  \n",
       "3                  77     41176               388030                  71  \n",
       "4                  99     86383               474413                  92  "
      ]
     },
     "execution_count": 81,
     "metadata": {},
     "output_type": "execute_result"
    }
   ],
   "source": [
    "groupA = (visitors.query('group == \"A\"')[['date', 'visitors']]\n",
    "                  .rename(columns={'visitors': 'visitorsPerDateA'})\n",
    "                  .sort_values(by='date'))\n",
    "groupA['visitorsCummulativeA'] = groupA.apply(lambda x: \n",
    "                                              groupA[groupA['date'] <= x['date']]\n",
    "                                              .agg({'visitorsPerDateA': 'sum'}), axis=1)\n",
    "groupA['ordersA'] = groupA.apply(lambda x: \n",
    "                                 orders[(orders['group'] == 'A') & (orders['date'] == x['date'])]\n",
    "                                 .agg({'transactionId': 'nunique'}), axis=1)\n",
    "groupA['ordersCummulativeA'] = groupA.apply(lambda x: \n",
    "                                            groupA[groupA['date'] <= x['date']]\n",
    "                                            .agg({'ordersA': 'sum'}), axis=1)\n",
    "groupA['revenueA'] = groupA.apply(lambda x:\n",
    "                                  orders[(orders['group'] == 'A') & (orders['date'] == x['date'])]\n",
    "                                  .agg({'revenue': 'sum'}), axis=1)\n",
    "groupA['revenueCummulativeA'] = groupA.apply(lambda x:\n",
    "                                             groupA[groupA['date'] <= x['date']]\n",
    "                                             .agg({'revenueA': 'sum'}), axis=1)\n",
    "groupA['buyersCummulativeA'] = groupA.apply(lambda x:\n",
    "                                            orders[(orders['group'] == 'A') & (orders['date'] <= x['date'])]\n",
    "                                            .agg({'visitorId': 'nunique'}), axis=1)\n",
    "\n",
    "groupA.head()"
   ]
  },
  {
   "cell_type": "markdown",
   "id": "ce390894",
   "metadata": {},
   "source": [
    "Для группы В"
   ]
  },
  {
   "cell_type": "code",
   "execution_count": 82,
   "id": "942b6a66",
   "metadata": {},
   "outputs": [
    {
     "data": {
      "text/html": [
       "<div>\n",
       "<style scoped>\n",
       "    .dataframe tbody tr th:only-of-type {\n",
       "        vertical-align: middle;\n",
       "    }\n",
       "\n",
       "    .dataframe tbody tr th {\n",
       "        vertical-align: top;\n",
       "    }\n",
       "\n",
       "    .dataframe thead th {\n",
       "        text-align: right;\n",
       "    }\n",
       "</style>\n",
       "<table border=\"1\" class=\"dataframe\">\n",
       "  <thead>\n",
       "    <tr style=\"text-align: right;\">\n",
       "      <th></th>\n",
       "      <th>date</th>\n",
       "      <th>visitorsPerDateB</th>\n",
       "      <th>visitorsCummulativeB</th>\n",
       "      <th>ordersB</th>\n",
       "      <th>ordersCummulativeB</th>\n",
       "      <th>revenueB</th>\n",
       "      <th>revenueCummulativeB</th>\n",
       "      <th>buyersCummulativeB</th>\n",
       "    </tr>\n",
       "  </thead>\n",
       "  <tbody>\n",
       "    <tr>\n",
       "      <th>31</th>\n",
       "      <td>2019-08-01</td>\n",
       "      <td>713</td>\n",
       "      <td>713</td>\n",
       "      <td>17</td>\n",
       "      <td>17</td>\n",
       "      <td>59758</td>\n",
       "      <td>59758</td>\n",
       "      <td>17</td>\n",
       "    </tr>\n",
       "    <tr>\n",
       "      <th>32</th>\n",
       "      <td>2019-08-02</td>\n",
       "      <td>581</td>\n",
       "      <td>1294</td>\n",
       "      <td>23</td>\n",
       "      <td>40</td>\n",
       "      <td>162043</td>\n",
       "      <td>221801</td>\n",
       "      <td>39</td>\n",
       "    </tr>\n",
       "    <tr>\n",
       "      <th>33</th>\n",
       "      <td>2019-08-03</td>\n",
       "      <td>509</td>\n",
       "      <td>1803</td>\n",
       "      <td>14</td>\n",
       "      <td>54</td>\n",
       "      <td>67049</td>\n",
       "      <td>288850</td>\n",
       "      <td>53</td>\n",
       "    </tr>\n",
       "    <tr>\n",
       "      <th>34</th>\n",
       "      <td>2019-08-04</td>\n",
       "      <td>770</td>\n",
       "      <td>2573</td>\n",
       "      <td>14</td>\n",
       "      <td>68</td>\n",
       "      <td>96890</td>\n",
       "      <td>385740</td>\n",
       "      <td>66</td>\n",
       "    </tr>\n",
       "    <tr>\n",
       "      <th>35</th>\n",
       "      <td>2019-08-05</td>\n",
       "      <td>707</td>\n",
       "      <td>3280</td>\n",
       "      <td>21</td>\n",
       "      <td>89</td>\n",
       "      <td>89908</td>\n",
       "      <td>475648</td>\n",
       "      <td>87</td>\n",
       "    </tr>\n",
       "  </tbody>\n",
       "</table>\n",
       "</div>"
      ],
      "text/plain": [
       "         date  visitorsPerDateB  visitorsCummulativeB  ordersB  \\\n",
       "31 2019-08-01               713                   713       17   \n",
       "32 2019-08-02               581                  1294       23   \n",
       "33 2019-08-03               509                  1803       14   \n",
       "34 2019-08-04               770                  2573       14   \n",
       "35 2019-08-05               707                  3280       21   \n",
       "\n",
       "    ordersCummulativeB  revenueB  revenueCummulativeB  buyersCummulativeB  \n",
       "31                  17     59758                59758                  17  \n",
       "32                  40    162043               221801                  39  \n",
       "33                  54     67049               288850                  53  \n",
       "34                  68     96890               385740                  66  \n",
       "35                  89     89908               475648                  87  "
      ]
     },
     "execution_count": 82,
     "metadata": {},
     "output_type": "execute_result"
    }
   ],
   "source": [
    "groupB = (visitors.query('group == \"B\"')[['date', 'visitors']]\n",
    "          .rename(columns={'visitors': 'visitorsPerDateB'})\n",
    "          .sort_values(by='date'))\n",
    "groupB['visitorsCummulativeB'] = groupB.apply(lambda x:\n",
    "                                              groupB[groupB['date'] <= x['date']]\n",
    "                                              .agg({'visitorsPerDateB': 'sum'}), axis=1)\n",
    "groupB['ordersB'] = groupB.apply(lambda x:\n",
    "                                 orders[(orders['group'] == 'B') & (orders['date'] == x['date'])]\n",
    "                                 .agg({'transactionId': 'nunique'}), axis=1)\n",
    "groupB['ordersCummulativeB'] = groupB.apply(lambda x:\n",
    "                                            groupB[groupB['date'] <= x['date']]\n",
    "                                            .agg({'ordersB': 'sum'}), axis=1)\n",
    "groupB['revenueB'] = groupB.apply(lambda x:\n",
    "                                  orders[(orders['group'] == 'B') & (orders['date'] == x['date'])]\n",
    "                                  .agg({'revenue': 'sum'}), axis=1)\n",
    "groupB['revenueCummulativeB'] = groupB.apply(lambda x: \n",
    "                                             groupB[groupB['date'] <= x['date']]\n",
    "                                             .agg({'revenueB': 'sum'}), axis=1)\n",
    "groupB['buyersCummulativeB'] = groupB.apply(lambda x:\n",
    "                                            orders[(orders['group'] == 'B') & (orders['date'] <= x['date'])]\n",
    "                                            .agg({'visitorId': 'nunique'}), axis=1)\n",
    "groupB.head()"
   ]
  },
  {
   "cell_type": "markdown",
   "id": "1efe29b7",
   "metadata": {},
   "source": [
    "И объединим таблицы в одну"
   ]
  },
  {
   "cell_type": "code",
   "execution_count": 83,
   "id": "8dfb4c83",
   "metadata": {},
   "outputs": [
    {
     "data": {
      "text/html": [
       "<div>\n",
       "<style scoped>\n",
       "    .dataframe tbody tr th:only-of-type {\n",
       "        vertical-align: middle;\n",
       "    }\n",
       "\n",
       "    .dataframe tbody tr th {\n",
       "        vertical-align: top;\n",
       "    }\n",
       "\n",
       "    .dataframe thead th {\n",
       "        text-align: right;\n",
       "    }\n",
       "</style>\n",
       "<table border=\"1\" class=\"dataframe\">\n",
       "  <thead>\n",
       "    <tr style=\"text-align: right;\">\n",
       "      <th></th>\n",
       "      <th>date</th>\n",
       "      <th>visitorsPerDateA</th>\n",
       "      <th>visitorsCummulativeA</th>\n",
       "      <th>ordersA</th>\n",
       "      <th>ordersCummulativeA</th>\n",
       "      <th>revenueA</th>\n",
       "      <th>revenueCummulativeA</th>\n",
       "      <th>buyersCummulativeA</th>\n",
       "      <th>visitorsPerDateB</th>\n",
       "      <th>visitorsCummulativeB</th>\n",
       "      <th>ordersB</th>\n",
       "      <th>ordersCummulativeB</th>\n",
       "      <th>revenueB</th>\n",
       "      <th>revenueCummulativeB</th>\n",
       "      <th>buyersCummulativeB</th>\n",
       "    </tr>\n",
       "  </thead>\n",
       "  <tbody>\n",
       "    <tr>\n",
       "      <th>0</th>\n",
       "      <td>2019-08-01</td>\n",
       "      <td>719</td>\n",
       "      <td>719</td>\n",
       "      <td>23</td>\n",
       "      <td>23</td>\n",
       "      <td>142779</td>\n",
       "      <td>142779</td>\n",
       "      <td>19</td>\n",
       "      <td>713</td>\n",
       "      <td>713</td>\n",
       "      <td>17</td>\n",
       "      <td>17</td>\n",
       "      <td>59758</td>\n",
       "      <td>59758</td>\n",
       "      <td>17</td>\n",
       "    </tr>\n",
       "    <tr>\n",
       "      <th>1</th>\n",
       "      <td>2019-08-02</td>\n",
       "      <td>619</td>\n",
       "      <td>1338</td>\n",
       "      <td>19</td>\n",
       "      <td>42</td>\n",
       "      <td>91602</td>\n",
       "      <td>234381</td>\n",
       "      <td>36</td>\n",
       "      <td>581</td>\n",
       "      <td>1294</td>\n",
       "      <td>23</td>\n",
       "      <td>40</td>\n",
       "      <td>162043</td>\n",
       "      <td>221801</td>\n",
       "      <td>39</td>\n",
       "    </tr>\n",
       "    <tr>\n",
       "      <th>2</th>\n",
       "      <td>2019-08-03</td>\n",
       "      <td>507</td>\n",
       "      <td>1845</td>\n",
       "      <td>24</td>\n",
       "      <td>66</td>\n",
       "      <td>112473</td>\n",
       "      <td>346854</td>\n",
       "      <td>60</td>\n",
       "      <td>509</td>\n",
       "      <td>1803</td>\n",
       "      <td>14</td>\n",
       "      <td>54</td>\n",
       "      <td>67049</td>\n",
       "      <td>288850</td>\n",
       "      <td>53</td>\n",
       "    </tr>\n",
       "    <tr>\n",
       "      <th>3</th>\n",
       "      <td>2019-08-04</td>\n",
       "      <td>717</td>\n",
       "      <td>2562</td>\n",
       "      <td>11</td>\n",
       "      <td>77</td>\n",
       "      <td>41176</td>\n",
       "      <td>388030</td>\n",
       "      <td>71</td>\n",
       "      <td>770</td>\n",
       "      <td>2573</td>\n",
       "      <td>14</td>\n",
       "      <td>68</td>\n",
       "      <td>96890</td>\n",
       "      <td>385740</td>\n",
       "      <td>66</td>\n",
       "    </tr>\n",
       "    <tr>\n",
       "      <th>4</th>\n",
       "      <td>2019-08-05</td>\n",
       "      <td>756</td>\n",
       "      <td>3318</td>\n",
       "      <td>22</td>\n",
       "      <td>99</td>\n",
       "      <td>86383</td>\n",
       "      <td>474413</td>\n",
       "      <td>92</td>\n",
       "      <td>707</td>\n",
       "      <td>3280</td>\n",
       "      <td>21</td>\n",
       "      <td>89</td>\n",
       "      <td>89908</td>\n",
       "      <td>475648</td>\n",
       "      <td>87</td>\n",
       "    </tr>\n",
       "  </tbody>\n",
       "</table>\n",
       "</div>"
      ],
      "text/plain": [
       "        date  visitorsPerDateA  visitorsCummulativeA  ordersA  \\\n",
       "0 2019-08-01               719                   719       23   \n",
       "1 2019-08-02               619                  1338       19   \n",
       "2 2019-08-03               507                  1845       24   \n",
       "3 2019-08-04               717                  2562       11   \n",
       "4 2019-08-05               756                  3318       22   \n",
       "\n",
       "   ordersCummulativeA  revenueA  revenueCummulativeA  buyersCummulativeA  \\\n",
       "0                  23    142779               142779                  19   \n",
       "1                  42     91602               234381                  36   \n",
       "2                  66    112473               346854                  60   \n",
       "3                  77     41176               388030                  71   \n",
       "4                  99     86383               474413                  92   \n",
       "\n",
       "   visitorsPerDateB  visitorsCummulativeB  ordersB  ordersCummulativeB  \\\n",
       "0               713                   713       17                  17   \n",
       "1               581                  1294       23                  40   \n",
       "2               509                  1803       14                  54   \n",
       "3               770                  2573       14                  68   \n",
       "4               707                  3280       21                  89   \n",
       "\n",
       "   revenueB  revenueCummulativeB  buyersCummulativeB  \n",
       "0     59758                59758                  17  \n",
       "1    162043               221801                  39  \n",
       "2     67049               288850                  53  \n",
       "3     96890               385740                  66  \n",
       "4     89908               475648                  87  "
      ]
     },
     "execution_count": 83,
     "metadata": {},
     "output_type": "execute_result"
    }
   ],
   "source": [
    "data = groupA.merge(groupB, on='date', how='outer')\n",
    "data.head()"
   ]
  },
  {
   "cell_type": "markdown",
   "id": "247482c3",
   "metadata": {},
   "source": [
    "### Кумулятивная выручка по группам"
   ]
  },
  {
   "cell_type": "code",
   "execution_count": 84,
   "id": "5b21b999",
   "metadata": {
    "scrolled": false
   },
   "outputs": [
    {
     "data": {
      "image/png": "[encoded data removed]",
      "text/plain": [
       "<Figure size 1080x288 with 1 Axes>"
      ]
     },
     "metadata": {
      "needs_background": "light"
     },
     "output_type": "display_data"
    }
   ],
   "source": [
    "plt.plot(data['date'], data['revenueCummulativeA'], label='A')\n",
    "plt.plot(data['date'], data['revenueCummulativeB'], label='B')\n",
    "plt.annotate('скачок', xy=('2019-08-17', 2800000),\n",
    "             xytext=('2019-08-10', 3500000),\n",
    "            arrowprops=dict(facecolor='g'))\n",
    "plt.annotate('отрыв', xy=('2019-08-05', 800000),\n",
    "             xytext=('2019-08-05', 2000000),\n",
    "            arrowprops=dict(facecolor='g')) \n",
    "plt.title('График кумулятивной выручки групп А и В')\n",
    "plt.xlabel('Дата')\n",
    "plt.ylabel('Выручка')\n",
    "plt.legend()\n",
    "plt.show()"
   ]
  },
  {
   "cell_type": "markdown",
   "id": "6e494f98",
   "metadata": {},
   "source": [
    "До 5 числа выручка в обоих группах была одинаковой, далее выручка в группе В стала больше, но с небольшим ростом и, судя по графику, скорость роста кумулятивной выручке одинакова в группах, т.е. каждодневная выручка в группе В примерно такая же как и в группе А. Ступенька на графике группы В говорит о том, что 19 числа в той группе была крупная покупка или много покупок, но это произошло только в один день и на общую тенденцию это не повлияло."
   ]
  },
  {
   "cell_type": "markdown",
   "id": "3dfc4616",
   "metadata": {},
   "source": [
    "### Кумулятивный средний чек по группам"
   ]
  },
  {
   "cell_type": "code",
   "execution_count": 85,
   "id": "28f930be",
   "metadata": {},
   "outputs": [
    {
     "data": {
      "image/png": "[encoded data removed]",
      "text/plain": [
       "<Figure size 1080x288 with 1 Axes>"
      ]
     },
     "metadata": {
      "needs_background": "light"
     },
     "output_type": "display_data"
    }
   ],
   "source": [
    "plt.plot(data['date'], data['revenueCummulativeA']/data['ordersCummulativeA'],\n",
    "         label='A')\n",
    "plt.plot(data['date'], data['revenueCummulativeB']/data['ordersCummulativeB'], \n",
    "         label='B')\n",
    "plt.legend()\n",
    "plt.annotate('выброс', xy=('2019-08-18', 8500), xytext=('2019-08-13', 9000),\n",
    "            arrowprops=dict(facecolor='g'))\n",
    "plt.title('График кумулятивного среднего чека групп А и В')\n",
    "plt.xlabel('Дата')\n",
    "plt.ylabel('Средний чек')\n",
    "plt.show()"
   ]
  },
  {
   "cell_type": "markdown",
   "id": "86903caa",
   "metadata": {},
   "source": [
    "В первую половину месяца средний чек колеблется около 5-7 тыс за чек в обеих группах, во вторую половину - группа А стабьльна, а в группе В есть небольшое снижение. И также есть выброс в группе В 19 числа."
   ]
  },
  {
   "cell_type": "markdown",
   "id": "d6d86805",
   "metadata": {},
   "source": [
    "### Относительное изменение кумулятивного среднего чека группы B к группе A"
   ]
  },
  {
   "cell_type": "code",
   "execution_count": 86,
   "id": "a2f9627c",
   "metadata": {
    "scrolled": true
   },
   "outputs": [
    {
     "data": {
      "image/png": "[encoded data removed]",
      "text/plain": [
       "<Figure size 1080x288 with 1 Axes>"
      ]
     },
     "metadata": {
      "needs_background": "light"
     },
     "output_type": "display_data"
    }
   ],
   "source": [
    "plt.plot(data['date'], \n",
    "        (data['revenueCummulativeB'] / data['ordersCummulativeB']) / \n",
    "         (data['revenueCummulativeA'] / data['ordersCummulativeA']) - 1)\n",
    "plt.axhline(y=0, color='black', linestyle='--')\n",
    "plt.annotate('выброс', xy=('2019-08-18', 0.25), xytext=('2019-08-13', 0.4),\n",
    "            arrowprops=dict(facecolor='g'))\n",
    "plt.title('График относительного изменения кумулятивного среднего чека групп А и В')\n",
    "plt.xlabel('Дата')\n",
    "plt.ylabel('Доля относительного изменения')\n",
    "plt.show()"
   ]
  },
  {
   "cell_type": "markdown",
   "id": "6eb7f83a",
   "metadata": {},
   "source": [
    "Все также: колебания в первую половину месяца и выброс в группе В 19 числа. В первой половине месяца, возможно, также действуют аномалии на обе группы, т.к. с 2 по 8 средний чек группы В немного растет, при этом у группы А - снижается, далее до 18 числа средний чек группы В стабилизируется, а у группы А - растет."
   ]
  },
  {
   "cell_type": "markdown",
   "id": "e97147bb",
   "metadata": {},
   "source": [
    "### Кумулятивная конверсия по группам"
   ]
  },
  {
   "cell_type": "code",
   "execution_count": 87,
   "id": "3ee8f3b3",
   "metadata": {},
   "outputs": [
    {
     "data": {
      "image/png": "[encoded data removed]",
      "text/plain": [
       "<Figure size 1080x288 with 1 Axes>"
      ]
     },
     "metadata": {
      "needs_background": "light"
     },
     "output_type": "display_data"
    }
   ],
   "source": [
    "plt.plot(data['date'], data['buyersCummulativeA']/data['visitorsCummulativeA'],\n",
    "         label='A')\n",
    "plt.plot(data['date'], data['buyersCummulativeB']/data['visitorsCummulativeB'],\n",
    "         label='B')\n",
    "plt.legend()\n",
    "plt.title('График кумулятивной конверсии групп А и В')\n",
    "plt.xlabel('Дата')\n",
    "plt.ylabel('Доля конверсии')\n",
    "plt.show()"
   ]
  },
  {
   "cell_type": "markdown",
   "id": "fcc8c1c4",
   "metadata": {},
   "source": [
    "До 5 числа конверсия в обеих группах примерно одинакова и колеблется, далее конверсия группы В растет и с 17 числа немного снижается, но остается лидирующей, а вот конверсия группы А падает и с 9 числа, практически, стабилизируется. В итоге, конверсия группы В показала лучший результат."
   ]
  },
  {
   "cell_type": "markdown",
   "id": "f4765fd5",
   "metadata": {},
   "source": [
    "### Относительное изменение кумулятивной конверсии группы B к группе A."
   ]
  },
  {
   "cell_type": "code",
   "execution_count": 88,
   "id": "108ed9e2",
   "metadata": {},
   "outputs": [
    {
     "data": {
      "image/png": "[encoded data removed]",
      "text/plain": [
       "<Figure size 1080x288 with 1 Axes>"
      ]
     },
     "metadata": {
      "needs_background": "light"
     },
     "output_type": "display_data"
    }
   ],
   "source": [
    "plt.plot(data['date'], \n",
    "        (data['buyersCummulativeB']/data['visitorsCummulativeB'])/\n",
    "         (data['buyersCummulativeA']/data['visitorsCummulativeA'])-1)\n",
    "plt.axhline(y=0, color='black', linestyle='--')\n",
    "plt.title('График относительного изменения кумулятивноой конверсии групп А и В')\n",
    "plt.xlabel('Дата')\n",
    "plt.ylabel('Доля относительной конверсии')\n",
    "plt.show()"
   ]
  },
  {
   "cell_type": "markdown",
   "id": "5cdbefc2",
   "metadata": {},
   "source": [
    "После колебаний до 5 числа, конверсия группы В выросла и, несмотря на то, что колеблется, остается лучше, чем конверсия группы А."
   ]
  },
  {
   "cell_type": "markdown",
   "id": "5c077048",
   "metadata": {},
   "source": [
    "### Анализ стоимостей заказов\n",
    "\n",
    "Для исследования аномалий построим график стоимостей заказов по столбцу `revenue` таблицы *orders*"
   ]
  },
  {
   "cell_type": "code",
   "execution_count": 89,
   "id": "a56c8a20",
   "metadata": {
    "scrolled": true
   },
   "outputs": [
    {
     "data": {
      "image/png": "[encoded data removed]",
      "text/plain": [
       "<Figure size 1080x288 with 1 Axes>"
      ]
     },
     "metadata": {
      "needs_background": "light"
     },
     "output_type": "display_data"
    }
   ],
   "source": [
    "sns.scatterplot(x=range(len(orders)),\n",
    "               y=orders['revenue'])\n",
    "plt.title('График стоимостей заказов, совершенных покупателями')\n",
    "plt.xlabel('Покупатели')\n",
    "plt.ylabel('Сумма заказа')\n",
    "plt.show()"
   ]
  },
  {
   "cell_type": "markdown",
   "id": "f34bf86a",
   "metadata": {},
   "source": [
    "Основная часть заказов не превышает 100 тыс, но есть заказы на 200 тыс и 1,2 млн - это аномалии, от них стоит избавиться. Оеделим 1% и 5% крайних значений."
   ]
  },
  {
   "cell_type": "code",
   "execution_count": 90,
   "id": "86b9f5ec",
   "metadata": {},
   "outputs": [
    {
     "data": {
      "text/plain": [
       "array([26785., 53904.])"
      ]
     },
     "execution_count": 90,
     "metadata": {},
     "output_type": "execute_result"
    }
   ],
   "source": [
    "np.percentile(orders['revenue'], [95, 99])"
   ]
  },
  {
   "cell_type": "markdown",
   "id": "34c4d47e",
   "metadata": {},
   "source": [
    "95% пользователей совершают покупки стоимостью менее 26,785 тыс и 99% - менее 53,904 тыс, посмотрим на 1% крупных сумм"
   ]
  },
  {
   "cell_type": "code",
   "execution_count": 91,
   "id": "404347c3",
   "metadata": {},
   "outputs": [
    {
     "data": {
      "text/plain": [
       "940       58550\n",
       "949       60450\n",
       "1099      65710\n",
       "1103      66350\n",
       "743       67990\n",
       "744       86620\n",
       "1136      92550\n",
       "1196     202740\n",
       "425     1294500\n",
       "Name: revenue, dtype: int64"
      ]
     },
     "execution_count": 91,
     "metadata": {},
     "output_type": "execute_result"
    }
   ],
   "source": [
    "orders.query('revenue > 58233')['revenue'].sort_values()"
   ]
  },
  {
   "cell_type": "markdown",
   "id": "aace4def",
   "metadata": {},
   "source": [
    "Стоимость покупок плавно растет, но последние две - выбиваются из ряда, возможно их и стоит удалить для очистки данных."
   ]
  },
  {
   "cell_type": "markdown",
   "id": "695ec70f",
   "metadata": {},
   "source": [
    "### Анализ заказов, сделанных пользователями\n",
    "\n",
    "Для построения графика сгруппируем таблицу *orders* по посетителям и посчитаем количеcтво, сделанных ими заказов"
   ]
  },
  {
   "cell_type": "code",
   "execution_count": 92,
   "id": "b6cb68e7",
   "metadata": {},
   "outputs": [
    {
     "data": {
      "image/png": "[encoded data removed]",
      "text/plain": [
       "<Figure size 1080x288 with 1 Axes>"
      ]
     },
     "metadata": {
      "needs_background": "light"
     },
     "output_type": "display_data"
    }
   ],
   "source": [
    "ordersPerUser = orders.groupby('visitorId').agg({'transactionId': 'nunique'})\n",
    "sns.scatterplot(x=range(len(ordersPerUser)),\n",
    "               y=ordersPerUser['transactionId'])\n",
    "plt.title('График количества заказов, совершенных покупателями')\n",
    "plt.xlabel('Покупатели')\n",
    "plt.ylabel('Количество заказов, шт')\n",
    "plt.show()"
   ]
  },
  {
   "cell_type": "markdown",
   "id": "67cca827",
   "metadata": {},
   "source": [
    "Большинство пользователей совершают 1 покупку, реже - 2 и 3. Снова посмотрим на 5% и 1% крайних хначений"
   ]
  },
  {
   "cell_type": "code",
   "execution_count": 93,
   "id": "095f9614",
   "metadata": {},
   "outputs": [
    {
     "data": {
      "text/plain": [
       "array([1., 2.])"
      ]
     },
     "execution_count": 93,
     "metadata": {},
     "output_type": "execute_result"
    }
   ],
   "source": [
    "np.percentile(ordersPerUser['transactionId'], [95, 99])"
   ]
  },
  {
   "cell_type": "markdown",
   "id": "333f4010",
   "metadata": {},
   "source": [
    "5% пользователей совершали более 1 заказа и 1% - более 2.  \n",
    "3 заказа сделали всего 7 пользователей, нет оснований считать их аномальными, но можно их удалить и проверить повлияют ли они на результаты анализа."
   ]
  },
  {
   "cell_type": "markdown",
   "id": "38078ab2",
   "metadata": {},
   "source": [
    "## Анализ статистической значимости между группами\n",
    "\n",
    "### Различие в конверсии по «сырым» данным"
   ]
  },
  {
   "cell_type": "markdown",
   "id": "6eb891ff",
   "metadata": {},
   "source": [
    "Различие в группах проверим критерием Манна-Уитни, а уровень значимости примем равным 5% во всех тестах.  \n",
    "1. Нулевая гипотеза: разницы в конверсии между группами нет,\n",
    "2. Альтернативная гипотеза: отличие - есть.\n",
    "\n",
    "Создадим таблицы с количеством заказов каждого покупателя для группы А и группы В, и к покупателям добавим посетителей из таблицы *visitors*, за вычетом числа покупателей, присвоив каждому 0 покупок."
   ]
  },
  {
   "cell_type": "code",
   "execution_count": 94,
   "id": "2c45b186",
   "metadata": {},
   "outputs": [],
   "source": [
    "ordersByUserA = (orders.query('group == \"A\"')\n",
    "                 .groupby('visitorId', as_index=False)\n",
    "                 .agg({'transactionId': 'nunique'}))\n",
    "sampleA = pd.concat([ordersByUserA['transactionId'], \n",
    "                    pd.Series(0, index=np.arange(\n",
    "                        data['visitorsPerDateA'].sum() - len(ordersByUserA)),\n",
    "                        name='transactionId')], axis=0)"
   ]
  },
  {
   "cell_type": "code",
   "execution_count": 95,
   "id": "336edee0",
   "metadata": {},
   "outputs": [],
   "source": [
    "ordersByUserB = (orders.query('group == \"B\"')\n",
    "                 .groupby('visitorId', as_index=False)\n",
    "                 .agg({'transactionId': 'nunique'}))\n",
    "sampleB = pd.concat([ordersByUserB['transactionId'], \n",
    "                    pd.Series(0, index=np.arange(\n",
    "                        data['visitorsPerDateB'].sum() - len(ordersByUserB)),\n",
    "                        name='transactionId')], axis=0)"
   ]
  },
  {
   "cell_type": "markdown",
   "id": "6699cf3a",
   "metadata": {},
   "source": [
    "Применим критерий Манна-Уитни и посмотрим р-значение, а также посчитаем относительный прирост конверсии группы В. Конверсия - это среднее значение в таблицах *sampleA* и *sampleB*."
   ]
  },
  {
   "cell_type": "code",
   "execution_count": 96,
   "id": "efbde107",
   "metadata": {
    "scrolled": true
   },
   "outputs": [
    {
     "name": "stdout",
     "output_type": "stream",
     "text": [
      "р-значение: 0.011018084110014696\n",
      "Изменение конверсии группы В относительно группы А: 0.1597977924896936\n"
     ]
    }
   ],
   "source": [
    "print('р-значение:', st.mannwhitneyu(sampleA, sampleB, alternative='two-sided')[1])\n",
    "print('Изменение конверсии группы В относительно группы А:', sampleB.mean() / \n",
    "      sampleA.mean() - 1)"
   ]
  },
  {
   "cell_type": "markdown",
   "id": "3f089d0b",
   "metadata": {},
   "source": [
    "p-значение меньше 0,05, значит различие в группах статистически значимо, т.е. конверсия группы В изменилась, а точнее, увеличилась почти на 16% относительно группы В."
   ]
  },
  {
   "cell_type": "markdown",
   "id": "10ba8eb8",
   "metadata": {},
   "source": [
    "### Различие в среднем чеке заказа по «сырым» данным\n",
    "\n",
    "Определим статистическую значимость различий в среднем чеке (столбец `revenue` таблицы *orders*) и изменение среднего чека группы В относительно группы А.  \n",
    "1. Нулевая гипотеза: разницы в среднем чеке между группами нет,\n",
    "2. Альтернативная гипотеза: отличие - есть."
   ]
  },
  {
   "cell_type": "code",
   "execution_count": 97,
   "id": "7783ae5f",
   "metadata": {
    "scrolled": true
   },
   "outputs": [
    {
     "name": "stdout",
     "output_type": "stream",
     "text": [
      "р-значение: 0.8294908998149533\n",
      "Изменение среднего чека группы В относительно группы А: 0.28660287636871096\n"
     ]
    }
   ],
   "source": [
    "print('р-значение:', st.mannwhitneyu(orders.query('group == \"A\"')['revenue'],\n",
    "                                     orders.query('group == \"B\"')['revenue'],\n",
    "                                     alternative='two-sided')[1])\n",
    "print('Изменение среднего чека группы В относительно группы А:',\n",
    "      orders.query('group == \"B\"')['revenue'].mean() / \n",
    "      orders.query('group == \"A\"')['revenue'].mean() - 1)"
   ]
  },
  {
   "cell_type": "markdown",
   "id": "0cb91dd3",
   "metadata": {},
   "source": [
    "р-значение больше 5%, следовательно, нельзя отвергнуть гипотезу о равенстве среднего среднего чека у двух групп. Несмотря на рост среднего чека группы В почти на 30% относительно группы А, статистически значимых различий, видимо, нет и влияние теста на этот рост нет."
   ]
  },
  {
   "cell_type": "markdown",
   "id": "7803b3d8",
   "metadata": {},
   "source": [
    "### Различие в конверсии по «очищенным» данным"
   ]
  },
  {
   "cell_type": "markdown",
   "id": "7bb5556d",
   "metadata": {},
   "source": [
    "Удалим обнаруженных пользователей с крайними значениями - покупатели с суммой покупки более 53904 и количеством заказов более 2.  "
   ]
  },
  {
   "cell_type": "code",
   "execution_count": 98,
   "id": "1b90ec59",
   "metadata": {},
   "outputs": [],
   "source": [
    "extremOrdersUser = (orders.groupby('visitorId', as_index=False)\n",
    "                    .agg({'transactionId': 'nunique'}))\n",
    "unusualUser = pd.concat([orders[orders['revenue'] > 53904]['visitorId'], \n",
    "                         extremOrdersUser[extremOrdersUser['transactionId'] > 2]['visitorId']], axis=0)"
   ]
  },
  {
   "cell_type": "code",
   "execution_count": 99,
   "id": "23050851",
   "metadata": {},
   "outputs": [
    {
     "data": {
      "text/plain": [
       "16"
      ]
     },
     "execution_count": 99,
     "metadata": {},
     "output_type": "execute_result"
    }
   ],
   "source": [
    "unusualUser = unusualUser.drop_duplicates()\n",
    "len(unusualUser)"
   ]
  },
  {
   "cell_type": "markdown",
   "id": "b9c4d26d",
   "metadata": {},
   "source": [
    "Всего 9 пользователей, пересечений нет, т.е. люди с максимальными покупками и с 3 заказами - разные.\n",
    "\n",
    "Для статистического анализа создадим выборки с группой А и В без необычных пользователей"
   ]
  },
  {
   "cell_type": "code",
   "execution_count": 100,
   "id": "480e162d",
   "metadata": {},
   "outputs": [],
   "source": [
    "sampleFilterA = pd.concat(\n",
    "    [ordersByUserA[np.logical_not(ordersByUserA['visitorId']\n",
    "                                  .isin(unusualUser))]['transactionId'],\n",
    "    pd.Series(0, index=np.arange(data['visitorsPerDateA'].sum() - len(ordersByUserA)))],\n",
    "    axis=0)"
   ]
  },
  {
   "cell_type": "code",
   "execution_count": 101,
   "id": "ff3471e3",
   "metadata": {},
   "outputs": [],
   "source": [
    "sampleFilterB = pd.concat(\n",
    "    [ordersByUserB[np.logical_not(ordersByUserB['visitorId']\n",
    "                                  .isin(unusualUser))]['transactionId'],\n",
    "    pd.Series(0, index=np.arange(data['visitorsPerDateB'].sum() - len(ordersByUserB)))],\n",
    "    axis=0)"
   ]
  },
  {
   "cell_type": "markdown",
   "id": "ddf82c2c",
   "metadata": {},
   "source": [
    "Теперь снова применим критерий Манна-Уитни к очищенным выборкам и посмотрим как изменилась конверсия группы В по сравнению с группой А  \n",
    "1. Нулевая гипотеза: разницы в конверсии между группами нет,\n",
    "2. Альтернативная гипотеза: отличие - есть."
   ]
  },
  {
   "cell_type": "code",
   "execution_count": 102,
   "id": "af935f5c",
   "metadata": {},
   "outputs": [
    {
     "name": "stdout",
     "output_type": "stream",
     "text": [
      "р-значение: 0.007021302207652193\n",
      "Изменение конверсии группы В относительно группы А: 0.18920780766034584\n"
     ]
    }
   ],
   "source": [
    "print('р-значение:', st.mannwhitneyu(sampleFilterA, sampleFilterB,\n",
    "                                     alternative='two-sided')[1])\n",
    "print('Изменение конверсии группы В относительно группы А:',\n",
    "      sampleFilterB.mean() / sampleFilterA.mean() - 1)"
   ]
  },
  {
   "cell_type": "markdown",
   "id": "4fbed338",
   "metadata": {},
   "source": [
    "Выводы те же, р-значение почти не изменилось, значит различие в группах есть, а относительная конверсия конверсия группы В выросла на 3 процента, видимо, покупателей с тремя заказами было в группе А."
   ]
  },
  {
   "cell_type": "markdown",
   "id": "77d88c30",
   "metadata": {},
   "source": [
    "### Различие в среднем чеке по «очищенным» данным\n",
    "\n",
    "Определим статистическую значимость различий в среднем чеке и изменение среднего чека группы В относительно группы А по \"очищенным данным\".  \n",
    "1. Нулевая гипотеза: разницы в среднем чеке между группами нет,\n",
    "2. Альтернативная гипотеза: отличие - есть."
   ]
  },
  {
   "cell_type": "code",
   "execution_count": 103,
   "id": "b77c7708",
   "metadata": {},
   "outputs": [],
   "source": [
    "revenueClearA = orders[np.logical_and(orders['group'] == \"A\",\n",
    "                                      np.logical_not(orders['visitorId']\n",
    "                                                     .isin(unusualUser)))\n",
    "                      ]\n",
    "revenueClearB = orders[np.logical_and(orders['group'] == \"B\",\n",
    "                                      np.logical_not(orders['visitorId']\n",
    "                                                     .isin(unusualUser)))\n",
    "                      ]"
   ]
  },
  {
   "cell_type": "code",
   "execution_count": 104,
   "id": "3d799880",
   "metadata": {},
   "outputs": [
    {
     "name": "stdout",
     "output_type": "stream",
     "text": [
      "р-значение: 0.7877044862440841\n",
      "Изменение среднего чека группы В относительно группы А: -0.0323351256932487\n"
     ]
    }
   ],
   "source": [
    "print('р-значение:', st.mannwhitneyu(revenueClearA['revenue'],\n",
    "                                     revenueClearB['revenue'],\n",
    "                                     alternative='two-sided')[1])\n",
    "print('Изменение среднего чека группы В относительно группы А:',\n",
    "      revenueClearB['revenue'].mean() / revenueClearA['revenue'].mean() - 1)"
   ]
  },
  {
   "cell_type": "markdown",
   "id": "b80ac2f4",
   "metadata": {},
   "source": [
    "И в этом случае выводы прежнии: статистической разницы между группами по среднему чеку нет, а относительный средний чек группы В по \"очищенным данным\" снизился на 3%, но, опять же, судя по р-значению, тест не является причиной этого снижения."
   ]
  },
  {
   "cell_type": "markdown",
   "id": "d39e5c97",
   "metadata": {},
   "source": [
    "## Выводы"
   ]
  },
  {
   "cell_type": "markdown",
   "id": "710631b4",
   "metadata": {},
   "source": [
    "Исследуемый тест проходил с 1 по 31 августа 2019 года, в нем приняло участие всего около 37,5 тыс посетителей, которые распределены в 2 группы с разницей в количестве участников менее 1%. \n",
    "\n",
    "Файлы с посетителями и покупателями дупликатов и пропущенных значений не содержат, общая статистика, также, в порядке - нет, например, отрицательных значений. Но на этапе исследования данных обнаружены 58 покупателей (6%) попавшие в обе группы сразу, а это недопустимо в тесте, поэтому они были удалены из анализа. Также, на этапе анализа обнаружены \"выбросы\": покупатели с необычно дорогими покупками и 1% покупателей сделавших 3 заказа, в отличии от всех остальных, оформивших по 1-2 заказа. Статистические тесты проведены с учетом и без этих \"выбросов\", которые не повлияли значительно на результаты.\n",
    "\n",
    "Проведена приоритизация 9 гипотез. Согласно фреймворку ICE, учитывающему влияние на пользователей и стоимость тестирования, самый высокий бал получила гипотеза об акции, дающей скидку на товар в день рождения. Но по фреймворку RICE, который учитывает дополнительно охват пользователей, лидирует гипотеза о включении формы подписки на все основные страницы, чтобы собрать базу клиентов для email-рассылок, такая гипотеза должна быть приоритетной, т.к. затроне большее число потенциальных покупателей.\n",
    "\n",
    "Анализ проведен по кумулятивным выручке, конверсии и среднему чеку. Конверсия в тестируемой группе В превысила показатели базлвой группы А и исследование проведенное статистическими методами показало, что этот рост вызван эффектом от теста. На сумму среднего чека тест не повлиял, даже с учетом двух крупных покупок, совершенных покупателям. Таким образом выручка группы В оказалась выше, чем у группы А, но за счет необычно крупных покупок и увеличившейся конверсии.\n",
    "\n",
    "По результатам анализа видно, что тест можно останавливать, т.к. динамика показателей кумулятивных конверсии и среднего чека стали стабильны с колебаниями в небольшом интервале, и дальнейших изменений в динамике ждать не стоит. Тест прошел успешно: тестируемая группа показала рост конверсии из посетителей в покупатели и, соответственно, увеличила выручку."
   ]
  }
 ],
 "metadata": {
  "ExecuteTimeLog": [
   {
    "duration": 1179,
    "start_time": "2022-02-02T18:42:38.007Z"
   },
   {
    "duration": 4,
    "start_time": "2022-02-02T18:42:39.188Z"
   },
   {
    "duration": 248,
    "start_time": "2022-02-02T18:42:39.194Z"
   },
   {
    "duration": 310,
    "start_time": "2022-02-02T18:42:39.444Z"
   },
   {
    "duration": 108,
    "start_time": "2022-02-02T18:42:39.756Z"
   },
   {
    "duration": 4,
    "start_time": "2022-02-02T18:42:39.866Z"
   },
   {
    "duration": 9,
    "start_time": "2022-02-02T18:42:39.872Z"
   },
   {
    "duration": 7,
    "start_time": "2022-02-02T18:42:39.883Z"
   },
   {
    "duration": 14,
    "start_time": "2022-02-02T18:42:39.892Z"
   },
   {
    "duration": 20,
    "start_time": "2022-02-02T18:42:39.909Z"
   },
   {
    "duration": 10,
    "start_time": "2022-02-02T18:42:39.931Z"
   },
   {
    "duration": 12,
    "start_time": "2022-02-02T18:42:39.943Z"
   },
   {
    "duration": 9,
    "start_time": "2022-02-02T18:42:39.956Z"
   },
   {
    "duration": 7,
    "start_time": "2022-02-02T18:42:39.967Z"
   },
   {
    "duration": 9,
    "start_time": "2022-02-02T18:42:39.976Z"
   },
   {
    "duration": 28,
    "start_time": "2022-02-02T18:42:39.987Z"
   },
   {
    "duration": 12,
    "start_time": "2022-02-02T18:42:40.017Z"
   },
   {
    "duration": 12,
    "start_time": "2022-02-02T18:42:40.031Z"
   },
   {
    "duration": 12,
    "start_time": "2022-02-02T18:42:40.045Z"
   },
   {
    "duration": 66354,
    "start_time": "2022-02-02T18:42:40.059Z"
   },
   {
    "duration": 4,
    "start_time": "2022-02-02T18:43:46.416Z"
   },
   {
    "duration": 17,
    "start_time": "2022-02-02T18:43:46.422Z"
   },
   {
    "duration": 13,
    "start_time": "2022-02-02T18:43:46.441Z"
   },
   {
    "duration": 13,
    "start_time": "2022-02-02T18:43:46.455Z"
   },
   {
    "duration": 37,
    "start_time": "2022-02-02T18:43:46.470Z"
   },
   {
    "duration": 400,
    "start_time": "2022-02-02T18:43:46.510Z"
   },
   {
    "duration": 415,
    "start_time": "2022-02-02T18:43:46.915Z"
   },
   {
    "duration": 17,
    "start_time": "2022-02-02T18:43:47.332Z"
   },
   {
    "duration": 295,
    "start_time": "2022-02-02T18:43:47.351Z"
   },
   {
    "duration": 283,
    "start_time": "2022-02-02T18:43:47.648Z"
   },
   {
    "duration": 398,
    "start_time": "2022-02-02T18:43:47.933Z"
   },
   {
    "duration": 262,
    "start_time": "2022-02-02T18:43:48.333Z"
   },
   {
    "duration": 474,
    "start_time": "2022-02-02T18:43:48.598Z"
   },
   {
    "duration": 381,
    "start_time": "2022-02-02T18:43:49.074Z"
   },
   {
    "duration": 6,
    "start_time": "2022-02-02T18:43:49.458Z"
   },
   {
    "duration": 16,
    "start_time": "2022-02-02T18:43:49.467Z"
   },
   {
    "duration": 395,
    "start_time": "2022-02-02T18:43:49.485Z"
   },
   {
    "duration": 5,
    "start_time": "2022-02-02T18:43:49.882Z"
   },
   {
    "duration": 27,
    "start_time": "2022-02-02T18:43:49.889Z"
   },
   {
    "duration": 23,
    "start_time": "2022-02-02T18:43:49.918Z"
   },
   {
    "duration": 12,
    "start_time": "2022-02-02T18:43:49.943Z"
   },
   {
    "duration": 15,
    "start_time": "2022-02-02T18:43:49.957Z"
   },
   {
    "duration": 9,
    "start_time": "2022-02-02T18:43:49.974Z"
   },
   {
    "duration": 24,
    "start_time": "2022-02-02T18:43:49.984Z"
   },
   {
    "duration": 16,
    "start_time": "2022-02-02T18:43:50.010Z"
   },
   {
    "duration": 13,
    "start_time": "2022-02-02T18:43:50.029Z"
   },
   {
    "duration": 11,
    "start_time": "2022-02-02T18:43:50.044Z"
   },
   {
    "duration": 8,
    "start_time": "2022-02-02T18:43:50.058Z"
   },
   {
    "duration": 13,
    "start_time": "2022-02-02T18:43:50.068Z"
   },
   {
    "duration": 1138,
    "start_time": "2022-02-03T07:14:39.259Z"
   },
   {
    "duration": 3,
    "start_time": "2022-02-03T07:14:41.790Z"
   },
   {
    "duration": 83,
    "start_time": "2022-02-03T07:14:44.061Z"
   },
   {
    "duration": 71,
    "start_time": "2022-02-03T07:14:52.142Z"
   },
   {
    "duration": 104,
    "start_time": "2022-02-03T07:14:54.335Z"
   },
   {
    "duration": 5,
    "start_time": "2022-02-03T07:14:57.460Z"
   },
   {
    "duration": 7,
    "start_time": "2022-02-03T07:14:58.698Z"
   },
   {
    "duration": 9,
    "start_time": "2022-02-03T07:15:00.194Z"
   },
   {
    "duration": 6,
    "start_time": "2022-02-03T07:15:00.757Z"
   },
   {
    "duration": 15,
    "start_time": "2022-02-03T07:15:03.134Z"
   },
   {
    "duration": 4,
    "start_time": "2022-02-03T07:15:03.485Z"
   },
   {
    "duration": 9,
    "start_time": "2022-02-03T07:15:04.563Z"
   },
   {
    "duration": 7,
    "start_time": "2022-02-03T07:15:05.047Z"
   },
   {
    "duration": 8,
    "start_time": "2022-02-03T07:15:06.927Z"
   },
   {
    "duration": 6,
    "start_time": "2022-02-03T07:15:07.784Z"
   },
   {
    "duration": 6,
    "start_time": "2022-02-03T07:15:08.193Z"
   },
   {
    "duration": 9,
    "start_time": "2022-02-03T07:15:12.122Z"
   },
   {
    "duration": 10,
    "start_time": "2022-02-03T07:15:12.480Z"
   },
   {
    "duration": 4,
    "start_time": "2022-02-03T07:15:15.223Z"
   },
   {
    "duration": 493,
    "start_time": "2022-02-03T07:15:15.650Z"
   },
   {
    "duration": 5,
    "start_time": "2022-02-03T07:15:24.667Z"
   },
   {
    "duration": 14,
    "start_time": "2022-02-03T07:15:26.994Z"
   },
   {
    "duration": 10,
    "start_time": "2022-02-03T07:15:29.189Z"
   },
   {
    "duration": 10,
    "start_time": "2022-02-03T07:15:30.122Z"
   },
   {
    "duration": 5,
    "start_time": "2022-02-03T07:15:30.846Z"
   },
   {
    "duration": 356,
    "start_time": "2022-02-03T07:15:36.552Z"
   },
   {
    "duration": 376,
    "start_time": "2022-02-03T07:15:38.921Z"
   },
   {
    "duration": 16,
    "start_time": "2022-02-03T07:15:41.188Z"
   },
   {
    "duration": 233,
    "start_time": "2022-02-03T07:15:43.966Z"
   },
   {
    "duration": 328,
    "start_time": "2022-02-03T07:15:51.170Z"
   },
   {
    "duration": 4,
    "start_time": "2022-02-03T07:23:05.256Z"
   },
   {
    "duration": 226,
    "start_time": "2022-02-03T07:23:11.844Z"
   },
   {
    "duration": 234,
    "start_time": "2022-02-03T07:26:07.731Z"
   },
   {
    "duration": 317,
    "start_time": "2022-02-03T07:31:16.439Z"
   },
   {
    "duration": 244,
    "start_time": "2022-02-03T07:32:58.501Z"
   },
   {
    "duration": 402,
    "start_time": "2022-02-03T07:37:16.108Z"
   },
   {
    "duration": 336,
    "start_time": "2022-02-03T07:38:38.830Z"
   },
   {
    "duration": 253,
    "start_time": "2022-02-03T07:40:00.422Z"
   },
   {
    "duration": 318,
    "start_time": "2022-02-03T07:41:13.368Z"
   },
   {
    "duration": 316,
    "start_time": "2022-02-03T07:45:58.162Z"
   },
   {
    "duration": 341,
    "start_time": "2022-02-03T07:48:16.126Z"
   },
   {
    "duration": 306,
    "start_time": "2022-02-03T07:56:18.596Z"
   },
   {
    "duration": 83,
    "start_time": "2022-02-03T08:02:38.215Z"
   },
   {
    "duration": 273,
    "start_time": "2022-02-03T08:02:50.554Z"
   },
   {
    "duration": 273,
    "start_time": "2022-02-03T08:03:36.206Z"
   },
   {
    "duration": 437,
    "start_time": "2022-02-03T08:04:52.878Z"
   },
   {
    "duration": 384,
    "start_time": "2022-02-03T08:05:46.298Z"
   },
   {
    "duration": 9,
    "start_time": "2022-02-03T08:32:45.151Z"
   },
   {
    "duration": 5,
    "start_time": "2022-02-03T08:32:47.928Z"
   },
   {
    "duration": 376,
    "start_time": "2022-02-03T08:32:50.561Z"
   },
   {
    "duration": 4,
    "start_time": "2022-02-03T08:33:19.320Z"
   },
   {
    "duration": 13,
    "start_time": "2022-02-03T08:33:19.326Z"
   },
   {
    "duration": 106,
    "start_time": "2022-02-03T08:33:19.341Z"
   },
   {
    "duration": 136,
    "start_time": "2022-02-03T08:33:19.449Z"
   },
   {
    "duration": 75,
    "start_time": "2022-02-03T08:33:19.587Z"
   },
   {
    "duration": 5,
    "start_time": "2022-02-03T08:33:19.664Z"
   },
   {
    "duration": 7,
    "start_time": "2022-02-03T08:33:19.672Z"
   },
   {
    "duration": 7,
    "start_time": "2022-02-03T08:33:19.681Z"
   },
   {
    "duration": 7,
    "start_time": "2022-02-03T08:33:19.690Z"
   },
   {
    "duration": 14,
    "start_time": "2022-02-03T08:33:19.699Z"
   },
   {
    "duration": 7,
    "start_time": "2022-02-03T08:33:19.715Z"
   },
   {
    "duration": 13,
    "start_time": "2022-02-03T08:33:19.724Z"
   },
   {
    "duration": 8,
    "start_time": "2022-02-03T08:33:19.739Z"
   },
   {
    "duration": 8,
    "start_time": "2022-02-03T08:33:19.749Z"
   },
   {
    "duration": 7,
    "start_time": "2022-02-03T08:33:19.759Z"
   },
   {
    "duration": 7,
    "start_time": "2022-02-03T08:33:19.767Z"
   },
   {
    "duration": 11,
    "start_time": "2022-02-03T08:33:19.775Z"
   },
   {
    "duration": 11,
    "start_time": "2022-02-03T08:33:19.820Z"
   },
   {
    "duration": 11,
    "start_time": "2022-02-03T08:33:19.834Z"
   },
   {
    "duration": 19,
    "start_time": "2022-02-03T08:33:19.846Z"
   },
   {
    "duration": 9,
    "start_time": "2022-02-03T08:33:19.867Z"
   },
   {
    "duration": 18,
    "start_time": "2022-02-03T08:33:19.877Z"
   },
   {
    "duration": 28,
    "start_time": "2022-02-03T08:33:19.897Z"
   },
   {
    "duration": 16,
    "start_time": "2022-02-03T08:33:19.927Z"
   },
   {
    "duration": 8,
    "start_time": "2022-02-03T08:33:19.945Z"
   },
   {
    "duration": 388,
    "start_time": "2022-02-03T08:33:19.955Z"
   },
   {
    "duration": 378,
    "start_time": "2022-02-03T08:33:20.345Z"
   },
   {
    "duration": 15,
    "start_time": "2022-02-03T08:33:20.724Z"
   },
   {
    "duration": 324,
    "start_time": "2022-02-03T08:33:20.741Z"
   },
   {
    "duration": 298,
    "start_time": "2022-02-03T08:33:21.067Z"
   },
   {
    "duration": 393,
    "start_time": "2022-02-03T08:33:21.367Z"
   },
   {
    "duration": 259,
    "start_time": "2022-02-03T08:33:21.762Z"
   },
   {
    "duration": 384,
    "start_time": "2022-02-03T08:33:22.023Z"
   },
   {
    "duration": 359,
    "start_time": "2022-02-03T08:33:22.409Z"
   },
   {
    "duration": 6,
    "start_time": "2022-02-03T08:33:22.771Z"
   },
   {
    "duration": 14,
    "start_time": "2022-02-03T08:33:22.779Z"
   },
   {
    "duration": 383,
    "start_time": "2022-02-03T08:33:22.795Z"
   },
   {
    "duration": 6,
    "start_time": "2022-02-03T08:33:23.180Z"
   },
   {
    "duration": 10,
    "start_time": "2022-02-03T08:33:23.188Z"
   },
   {
    "duration": 26,
    "start_time": "2022-02-03T08:33:23.200Z"
   },
   {
    "duration": 13,
    "start_time": "2022-02-03T08:33:23.228Z"
   },
   {
    "duration": 15,
    "start_time": "2022-02-03T08:33:23.243Z"
   },
   {
    "duration": 11,
    "start_time": "2022-02-03T08:33:23.260Z"
   },
   {
    "duration": 5,
    "start_time": "2022-02-03T08:33:23.273Z"
   },
   {
    "duration": 10,
    "start_time": "2022-02-03T08:33:23.280Z"
   },
   {
    "duration": 8,
    "start_time": "2022-02-03T08:33:23.319Z"
   },
   {
    "duration": 14,
    "start_time": "2022-02-03T08:33:23.329Z"
   },
   {
    "duration": 9,
    "start_time": "2022-02-03T08:33:23.345Z"
   },
   {
    "duration": 7,
    "start_time": "2022-02-03T08:33:23.356Z"
   },
   {
    "duration": 267,
    "start_time": "2022-02-03T08:51:46.196Z"
   },
   {
    "duration": 8,
    "start_time": "2022-02-03T08:51:55.945Z"
   },
   {
    "duration": 21,
    "start_time": "2022-02-03T08:52:48.386Z"
   },
   {
    "duration": 8,
    "start_time": "2022-02-03T08:53:12.596Z"
   },
   {
    "duration": 6,
    "start_time": "2022-02-03T08:53:59.188Z"
   },
   {
    "duration": 1148,
    "start_time": "2022-02-03T09:45:50.351Z"
   },
   {
    "duration": 3,
    "start_time": "2022-02-03T09:45:51.501Z"
   },
   {
    "duration": 118,
    "start_time": "2022-02-03T09:45:51.506Z"
   },
   {
    "duration": 209,
    "start_time": "2022-02-03T09:45:51.625Z"
   },
   {
    "duration": 90,
    "start_time": "2022-02-03T09:45:51.835Z"
   },
   {
    "duration": 4,
    "start_time": "2022-02-03T09:45:51.927Z"
   },
   {
    "duration": 14,
    "start_time": "2022-02-03T09:45:51.933Z"
   },
   {
    "duration": 8,
    "start_time": "2022-02-03T09:45:51.949Z"
   },
   {
    "duration": 8,
    "start_time": "2022-02-03T09:45:51.959Z"
   },
   {
    "duration": 16,
    "start_time": "2022-02-03T09:45:51.969Z"
   },
   {
    "duration": 9,
    "start_time": "2022-02-03T09:45:51.987Z"
   },
   {
    "duration": 28,
    "start_time": "2022-02-03T09:45:51.998Z"
   },
   {
    "duration": 12,
    "start_time": "2022-02-03T09:45:52.028Z"
   },
   {
    "duration": 13,
    "start_time": "2022-02-03T09:45:52.042Z"
   },
   {
    "duration": 15,
    "start_time": "2022-02-03T09:45:52.057Z"
   },
   {
    "duration": 6,
    "start_time": "2022-02-03T09:45:52.074Z"
   },
   {
    "duration": 19,
    "start_time": "2022-02-03T09:45:52.082Z"
   },
   {
    "duration": 25,
    "start_time": "2022-02-03T09:45:52.102Z"
   },
   {
    "duration": 8,
    "start_time": "2022-02-03T09:45:52.129Z"
   },
   {
    "duration": 9,
    "start_time": "2022-02-03T09:45:52.139Z"
   },
   {
    "duration": 4,
    "start_time": "2022-02-03T09:45:52.150Z"
   },
   {
    "duration": 10,
    "start_time": "2022-02-03T09:45:52.155Z"
   },
   {
    "duration": 16,
    "start_time": "2022-02-03T09:45:52.169Z"
   },
   {
    "duration": 6,
    "start_time": "2022-02-03T09:45:52.187Z"
   },
   {
    "duration": 692,
    "start_time": "2022-02-03T09:45:52.195Z"
   },
   {
    "duration": 380,
    "start_time": "2022-02-03T09:45:52.889Z"
   },
   {
    "duration": 376,
    "start_time": "2022-02-03T09:45:53.271Z"
   },
   {
    "duration": 13,
    "start_time": "2022-02-03T09:45:53.649Z"
   },
   {
    "duration": 337,
    "start_time": "2022-02-03T09:45:53.664Z"
   },
   {
    "duration": 303,
    "start_time": "2022-02-03T09:45:54.003Z"
   },
   {
    "duration": 487,
    "start_time": "2022-02-03T09:45:54.308Z"
   },
   {
    "duration": 361,
    "start_time": "2022-02-03T09:45:54.797Z"
   },
   {
    "duration": 627,
    "start_time": "2022-02-03T09:45:55.160Z"
   },
   {
    "duration": 385,
    "start_time": "2022-02-03T09:45:55.789Z"
   },
   {
    "duration": 5,
    "start_time": "2022-02-03T09:45:56.175Z"
   },
   {
    "duration": 10,
    "start_time": "2022-02-03T09:45:56.182Z"
   },
   {
    "duration": 376,
    "start_time": "2022-02-03T09:45:56.193Z"
   },
   {
    "duration": 6,
    "start_time": "2022-02-03T09:45:56.571Z"
   },
   {
    "duration": 11,
    "start_time": "2022-02-03T09:45:56.579Z"
   },
   {
    "duration": 27,
    "start_time": "2022-02-03T09:45:56.592Z"
   },
   {
    "duration": 10,
    "start_time": "2022-02-03T09:45:56.621Z"
   },
   {
    "duration": 16,
    "start_time": "2022-02-03T09:45:56.633Z"
   },
   {
    "duration": 9,
    "start_time": "2022-02-03T09:45:56.651Z"
   },
   {
    "duration": 5,
    "start_time": "2022-02-03T09:45:56.662Z"
   },
   {
    "duration": 8,
    "start_time": "2022-02-03T09:45:56.669Z"
   },
   {
    "duration": 44,
    "start_time": "2022-02-03T09:45:56.678Z"
   },
   {
    "duration": 11,
    "start_time": "2022-02-03T09:45:56.724Z"
   },
   {
    "duration": 8,
    "start_time": "2022-02-03T09:45:56.737Z"
   },
   {
    "duration": 8,
    "start_time": "2022-02-03T09:45:56.746Z"
   },
   {
    "duration": 1227,
    "start_time": "2022-02-03T17:27:28.471Z"
   },
   {
    "duration": 4,
    "start_time": "2022-02-03T17:27:29.700Z"
   },
   {
    "duration": 95,
    "start_time": "2022-02-03T17:27:29.707Z"
   },
   {
    "duration": 115,
    "start_time": "2022-02-03T17:27:29.805Z"
   },
   {
    "duration": 94,
    "start_time": "2022-02-03T17:27:29.922Z"
   },
   {
    "duration": 6,
    "start_time": "2022-02-03T17:27:30.018Z"
   },
   {
    "duration": 21,
    "start_time": "2022-02-03T17:27:30.026Z"
   },
   {
    "duration": 24,
    "start_time": "2022-02-03T17:27:30.049Z"
   },
   {
    "duration": 29,
    "start_time": "2022-02-03T17:27:30.077Z"
   },
   {
    "duration": 27,
    "start_time": "2022-02-03T17:27:30.109Z"
   },
   {
    "duration": 38,
    "start_time": "2022-02-03T17:27:30.138Z"
   },
   {
    "duration": 21,
    "start_time": "2022-02-03T17:27:30.178Z"
   },
   {
    "duration": 23,
    "start_time": "2022-02-03T17:27:30.201Z"
   },
   {
    "duration": 31,
    "start_time": "2022-02-03T17:27:30.226Z"
   },
   {
    "duration": 21,
    "start_time": "2022-02-03T17:27:30.259Z"
   },
   {
    "duration": 14,
    "start_time": "2022-02-03T17:27:30.282Z"
   },
   {
    "duration": 15,
    "start_time": "2022-02-03T17:27:30.298Z"
   },
   {
    "duration": 28,
    "start_time": "2022-02-03T17:27:30.315Z"
   },
   {
    "duration": 16,
    "start_time": "2022-02-03T17:27:30.345Z"
   },
   {
    "duration": 31,
    "start_time": "2022-02-03T17:27:30.363Z"
   },
   {
    "duration": 16,
    "start_time": "2022-02-03T17:27:30.396Z"
   },
   {
    "duration": 25,
    "start_time": "2022-02-03T17:27:30.414Z"
   },
   {
    "duration": 31,
    "start_time": "2022-02-03T17:27:30.441Z"
   },
   {
    "duration": 25,
    "start_time": "2022-02-03T17:27:30.474Z"
   },
   {
    "duration": 90503,
    "start_time": "2022-02-03T17:27:30.501Z"
   },
   {
    "duration": 396,
    "start_time": "2022-02-03T17:29:01.006Z"
   },
   {
    "duration": 421,
    "start_time": "2022-02-03T17:29:01.410Z"
   },
   {
    "duration": 16,
    "start_time": "2022-02-03T17:29:01.834Z"
   },
   {
    "duration": 433,
    "start_time": "2022-02-03T17:29:01.852Z"
   },
   {
    "duration": 326,
    "start_time": "2022-02-03T17:29:02.287Z"
   },
   {
    "duration": 460,
    "start_time": "2022-02-03T17:29:02.615Z"
   },
   {
    "duration": 270,
    "start_time": "2022-02-03T17:29:03.077Z"
   },
   {
    "duration": 445,
    "start_time": "2022-02-03T17:29:03.349Z"
   },
   {
    "duration": 382,
    "start_time": "2022-02-03T17:29:03.797Z"
   },
   {
    "duration": 6,
    "start_time": "2022-02-03T17:29:04.181Z"
   },
   {
    "duration": 20,
    "start_time": "2022-02-03T17:29:04.190Z"
   },
   {
    "duration": 406,
    "start_time": "2022-02-03T17:29:04.213Z"
   },
   {
    "duration": 5,
    "start_time": "2022-02-03T17:29:04.621Z"
   },
   {
    "duration": 16,
    "start_time": "2022-02-03T17:29:04.628Z"
   },
   {
    "duration": 13,
    "start_time": "2022-02-03T17:29:04.646Z"
   },
   {
    "duration": 10,
    "start_time": "2022-02-03T17:29:04.661Z"
   },
   {
    "duration": 44,
    "start_time": "2022-02-03T17:29:04.673Z"
   },
   {
    "duration": 15,
    "start_time": "2022-02-03T17:29:04.719Z"
   },
   {
    "duration": 6,
    "start_time": "2022-02-03T17:29:04.736Z"
   },
   {
    "duration": 13,
    "start_time": "2022-02-03T17:29:04.744Z"
   },
   {
    "duration": 8,
    "start_time": "2022-02-03T17:29:04.759Z"
   },
   {
    "duration": 21,
    "start_time": "2022-02-03T17:29:04.769Z"
   },
   {
    "duration": 20,
    "start_time": "2022-02-03T17:29:04.792Z"
   },
   {
    "duration": 15,
    "start_time": "2022-02-03T17:29:04.814Z"
   }
  ],
  "kernelspec": {
   "display_name": "Python 3 (ipykernel)",
   "language": "python",
   "name": "python3"
  },
  "language_info": {
   "codemirror_mode": {
    "name": "ipython",
    "version": 3
   },
   "file_extension": ".py",
   "mimetype": "text/x-python",
   "name": "python",
   "nbconvert_exporter": "python",
   "pygments_lexer": "ipython3",
   "version": "3.7.11"
  },
  "toc": {
   "base_numbering": 1,
   "nav_menu": {},
   "number_sections": true,
   "sideBar": true,
   "skip_h1_title": true,
   "title_cell": "Содержание",
   "title_sidebar": "Contents",
   "toc_cell": true,
   "toc_position": {
    "height": "calc(100% - 180px)",
    "left": "10px",
    "top": "150px",
    "width": "447.183px"
   },
   "toc_section_display": true,
   "toc_window_display": true
  }
 },
 "nbformat": 4,
 "nbformat_minor": 5
}
